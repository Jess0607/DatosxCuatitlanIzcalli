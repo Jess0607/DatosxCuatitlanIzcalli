{
 "cells": [
  {
   "cell_type": "markdown",
   "id": "0fda9ab5",
   "metadata": {},
   "source": [
    "## Specific libraries installation"
   ]
  },
  {
   "cell_type": "code",
   "execution_count": null,
   "id": "332dba26",
   "metadata": {},
   "outputs": [],
   "source": [
    "pip install googletrans==3.1.0a0"
   ]
  },
  {
   "cell_type": "code",
   "execution_count": null,
   "id": "8f2016d7",
   "metadata": {},
   "outputs": [],
   "source": [
    "pip install pysentimiento"
   ]
  },
  {
   "cell_type": "code",
   "execution_count": 3,
   "id": "b8c74cbf-3d0d-48bb-aaa8-9d71ea956803",
   "metadata": {},
   "outputs": [
    {
     "name": "stdout",
     "output_type": "stream",
     "text": [
      "Collecting seaborn\n",
      "  Using cached seaborn-0.11.2-py3-none-any.whl (292 kB)\n",
      "Requirement already satisfied: numpy>=1.15 in c:\\users\\rodrigo\\pycharmprojects\\testtweetjessauto\\lib\\site-packages (from seaborn) (1.22.4)\n",
      "Requirement already satisfied: scipy>=1.0 in c:\\users\\rodrigo\\pycharmprojects\\testtweetjessauto\\lib\\site-packages (from seaborn) (1.8.1)\n",
      "Requirement already satisfied: pandas>=0.23 in c:\\users\\rodrigo\\pycharmprojects\\testtweetjessauto\\lib\\site-packages (from seaborn) (1.4.2)\n",
      "Collecting matplotlib>=2.2\n",
      "  Downloading matplotlib-3.5.2-cp39-cp39-win_amd64.whl (7.2 MB)\n",
      "     ---------------------------------------- 7.2/7.2 MB 18.4 MB/s eta 0:00:00\n",
      "Collecting fonttools>=4.22.0\n",
      "  Using cached fonttools-4.33.3-py3-none-any.whl (930 kB)\n",
      "Requirement already satisfied: packaging>=20.0 in c:\\users\\rodrigo\\pycharmprojects\\testtweetjessauto\\lib\\site-packages (from matplotlib>=2.2->seaborn) (21.3)\n",
      "Requirement already satisfied: python-dateutil>=2.7 in c:\\users\\rodrigo\\pycharmprojects\\testtweetjessauto\\lib\\site-packages (from matplotlib>=2.2->seaborn) (2.8.2)\n",
      "Collecting kiwisolver>=1.0.1\n",
      "  Downloading kiwisolver-1.4.2-cp39-cp39-win_amd64.whl (55 kB)\n",
      "     ---------------------------------------- 55.4/55.4 kB ? eta 0:00:00\n",
      "Collecting pillow>=6.2.0\n",
      "  Downloading Pillow-9.1.1-cp39-cp39-win_amd64.whl (3.3 MB)\n",
      "     ---------------------------------------- 3.3/3.3 MB 69.7 MB/s eta 0:00:00\n",
      "Requirement already satisfied: pyparsing>=2.2.1 in c:\\users\\rodrigo\\pycharmprojects\\testtweetjessauto\\lib\\site-packages (from matplotlib>=2.2->seaborn) (3.0.9)\n",
      "Collecting cycler>=0.10\n",
      "  Using cached cycler-0.11.0-py3-none-any.whl (6.4 kB)\n",
      "Requirement already satisfied: pytz>=2020.1 in c:\\users\\rodrigo\\pycharmprojects\\testtweetjessauto\\lib\\site-packages (from pandas>=0.23->seaborn) (2022.1)\n",
      "Requirement already satisfied: six>=1.5 in c:\\users\\rodrigo\\pycharmprojects\\testtweetjessauto\\lib\\site-packages (from python-dateutil>=2.7->matplotlib>=2.2->seaborn) (1.16.0)\n",
      "Installing collected packages: pillow, kiwisolver, fonttools, cycler, matplotlib, seaborn\n",
      "Successfully installed cycler-0.11.0 fonttools-4.33.3 kiwisolver-1.4.2 matplotlib-3.5.2 pillow-9.1.1 seaborn-0.11.2\n",
      "Note: you may need to restart the kernel to use updated packages.\n"
     ]
    }
   ],
   "source": [
    "pip install seaborn"
   ]
  },
  {
   "cell_type": "markdown",
   "id": "3271935f",
   "metadata": {},
   "source": [
    "## Base libraries"
   ]
  },
  {
   "cell_type": "code",
   "execution_count": 4,
   "id": "2ca7507d",
   "metadata": {},
   "outputs": [],
   "source": [
    "import string\n",
    "import pandas as pd\n",
    "import re\n",
    "##### Load the list of stopwords built into nltk\n",
    "import nltk\n",
    "from nltk.stem import SnowballStemmer\n",
    "import itertools\n",
    "import numpy as np\n",
    "from sklearn.linear_model import LogisticRegression\n",
    "from sklearn.feature_extraction.text import TfidfVectorizer\n",
    "import seaborn as sns\n",
    "from matplotlib import pyplot as plt\n",
    "from sklearn import preprocessing\n",
    "from sklearn.model_selection import train_test_split\n",
    "#from wordcloud import WordCloud, STOPWORDS\n",
    "%matplotlib inline\n",
    "import pickle\n",
    "import requests\n",
    "import warnings"
   ]
  },
  {
   "cell_type": "code",
   "execution_count": 5,
   "id": "9f770a4c-c7a4-47a7-9793-af676a70a9c5",
   "metadata": {},
   "outputs": [
    {
     "name": "stdout",
     "output_type": "stream",
     "text": [
      "Collecting sentencepiece\n",
      "  Downloading sentencepiece-0.1.96-cp39-cp39-win_amd64.whl (1.1 MB)\n",
      "     ---------------------------------------- 1.1/1.1 MB 4.6 MB/s eta 0:00:00\n",
      "Installing collected packages: sentencepiece\n",
      "Successfully installed sentencepiece-0.1.96\n",
      "Note: you may need to restart the kernel to use updated packages.\n"
     ]
    }
   ],
   "source": [
    "pip install sentencepiece"
   ]
  },
  {
   "cell_type": "code",
   "execution_count": 6,
   "id": "e6082c1d",
   "metadata": {},
   "outputs": [],
   "source": [
    "import sentencepiece"
   ]
  },
  {
   "cell_type": "code",
   "execution_count": 7,
   "id": "e58dd38f",
   "metadata": {},
   "outputs": [],
   "source": [
    "from transformers import pipeline"
   ]
  },
  {
   "cell_type": "code",
   "execution_count": 8,
   "id": "baf51550",
   "metadata": {},
   "outputs": [],
   "source": [
    "from googletrans import Translator, constants\n",
    "from pprint import pprint"
   ]
  },
  {
   "cell_type": "code",
   "execution_count": 9,
   "id": "65b7145e",
   "metadata": {},
   "outputs": [],
   "source": [
    "from pysentimiento import create_analyzer\n",
    "analyzer = create_analyzer(task=\"sentiment\", lang=\"es\")"
   ]
  },
  {
   "cell_type": "markdown",
   "id": "37107807",
   "metadata": {},
   "source": [
    "## Upload data"
   ]
  },
  {
   "cell_type": "markdown",
   "id": "212efa25",
   "metadata": {},
   "source": [
    "Dataframe"
   ]
  },
  {
   "cell_type": "code",
   "execution_count": 11,
   "id": "538af0b4",
   "metadata": {},
   "outputs": [
    {
     "data": {
      "text/html": [
       "<div>\n",
       "<style scoped>\n",
       "    .dataframe tbody tr th:only-of-type {\n",
       "        vertical-align: middle;\n",
       "    }\n",
       "\n",
       "    .dataframe tbody tr th {\n",
       "        vertical-align: top;\n",
       "    }\n",
       "\n",
       "    .dataframe thead th {\n",
       "        text-align: right;\n",
       "    }\n",
       "</style>\n",
       "<table border=\"1\" class=\"dataframe\">\n",
       "  <thead>\n",
       "    <tr style=\"text-align: right;\">\n",
       "      <th></th>\n",
       "      <th>Tweet</th>\n",
       "      <th>Sentiment</th>\n",
       "    </tr>\n",
       "  </thead>\n",
       "  <tbody>\n",
       "    <tr>\n",
       "      <th>0</th>\n",
       "      <td>¿Algo que decir @Claudiashein @OHarfuch @SSC_C...</td>\n",
       "      <td>NEU</td>\n",
       "    </tr>\n",
       "    <tr>\n",
       "      <th>1</th>\n",
       "      <td>AYUDA! Hoy un camión de CDMX EMPUJÓ a @JennyDi...</td>\n",
       "      <td>NEU</td>\n",
       "    </tr>\n",
       "    <tr>\n",
       "      <th>2</th>\n",
       "      <td>@lumendoz @Claudiashein @GobCDMX @genarolozano...</td>\n",
       "      <td>NEG</td>\n",
       "    </tr>\n",
       "    <tr>\n",
       "      <th>3</th>\n",
       "      <td>Alguien con ganas de jugar #Tenis ?\\nEn #CDMX ...</td>\n",
       "      <td>POS</td>\n",
       "    </tr>\n",
       "    <tr>\n",
       "      <th>4</th>\n",
       "      <td>\"Colmo de los colmos\" que el @INEMexico no val...</td>\n",
       "      <td>NEG</td>\n",
       "    </tr>\n",
       "  </tbody>\n",
       "</table>\n",
       "</div>"
      ],
      "text/plain": [
       "                                               Tweet Sentiment\n",
       "0  ¿Algo que decir @Claudiashein @OHarfuch @SSC_C...       NEU\n",
       "1  AYUDA! Hoy un camión de CDMX EMPUJÓ a @JennyDi...       NEU\n",
       "2  @lumendoz @Claudiashein @GobCDMX @genarolozano...       NEG\n",
       "3  Alguien con ganas de jugar #Tenis ?\\nEn #CDMX ...       POS\n",
       "4  \"Colmo de los colmos\" que el @INEMexico no val...       NEG"
      ]
     },
     "execution_count": 11,
     "metadata": {},
     "output_type": "execute_result"
    }
   ],
   "source": [
    "#filename = \"FinalManual6000.csv\"\n",
    "\n",
    "filename = \"FinalManual6000.csv\"\n",
    "\n",
    "DF = pd.read_csv(filename)\n",
    "\n",
    "DF.head()"
   ]
  },
  {
   "cell_type": "code",
   "execution_count": 12,
   "id": "1b766810",
   "metadata": {},
   "outputs": [
    {
     "data": {
      "text/html": [
       "<div>\n",
       "<style scoped>\n",
       "    .dataframe tbody tr th:only-of-type {\n",
       "        vertical-align: middle;\n",
       "    }\n",
       "\n",
       "    .dataframe tbody tr th {\n",
       "        vertical-align: top;\n",
       "    }\n",
       "\n",
       "    .dataframe thead th {\n",
       "        text-align: right;\n",
       "    }\n",
       "</style>\n",
       "<table border=\"1\" class=\"dataframe\">\n",
       "  <thead>\n",
       "    <tr style=\"text-align: right;\">\n",
       "      <th></th>\n",
       "      <th>tweet_text</th>\n",
       "      <th>Sentiment</th>\n",
       "    </tr>\n",
       "  </thead>\n",
       "  <tbody>\n",
       "    <tr>\n",
       "      <th>0</th>\n",
       "      <td>¿Algo que decir @Claudiashein @OHarfuch @SSC_C...</td>\n",
       "      <td>NEU</td>\n",
       "    </tr>\n",
       "    <tr>\n",
       "      <th>1</th>\n",
       "      <td>AYUDA! Hoy un camión de CDMX EMPUJÓ a @JennyDi...</td>\n",
       "      <td>NEU</td>\n",
       "    </tr>\n",
       "    <tr>\n",
       "      <th>2</th>\n",
       "      <td>@lumendoz @Claudiashein @GobCDMX @genarolozano...</td>\n",
       "      <td>NEG</td>\n",
       "    </tr>\n",
       "    <tr>\n",
       "      <th>3</th>\n",
       "      <td>Alguien con ganas de jugar #Tenis ?\\nEn #CDMX ...</td>\n",
       "      <td>POS</td>\n",
       "    </tr>\n",
       "    <tr>\n",
       "      <th>4</th>\n",
       "      <td>\"Colmo de los colmos\" que el @INEMexico no val...</td>\n",
       "      <td>NEG</td>\n",
       "    </tr>\n",
       "    <tr>\n",
       "      <th>...</th>\n",
       "      <td>...</td>\n",
       "      <td>...</td>\n",
       "    </tr>\n",
       "    <tr>\n",
       "      <th>5994</th>\n",
       "      <td>RT @LourdesSalome3: Conozcan a esta diputada f...</td>\n",
       "      <td>NEU</td>\n",
       "    </tr>\n",
       "    <tr>\n",
       "      <th>5995</th>\n",
       "      <td>RT @izcalliciudadan: @alfredodelmazo Woww en C...</td>\n",
       "      <td>NEU</td>\n",
       "    </tr>\n",
       "    <tr>\n",
       "      <th>5996</th>\n",
       "      <td>¡QUE TODOS CONOZCAN TU NEGOCIO O SERVICIO!\\n\\n...</td>\n",
       "      <td>NEU</td>\n",
       "    </tr>\n",
       "    <tr>\n",
       "      <th>5997</th>\n",
       "      <td>RT @MonitorFinan0: https://t.co/NXVg8Iojy8</td>\n",
       "      <td>NEU</td>\n",
       "    </tr>\n",
       "    <tr>\n",
       "      <th>5998</th>\n",
       "      <td>RT @Reinadee_izcali: Alguien debería decirle a...</td>\n",
       "      <td>NEG</td>\n",
       "    </tr>\n",
       "  </tbody>\n",
       "</table>\n",
       "<p>5999 rows × 2 columns</p>\n",
       "</div>"
      ],
      "text/plain": [
       "                                             tweet_text Sentiment\n",
       "0     ¿Algo que decir @Claudiashein @OHarfuch @SSC_C...       NEU\n",
       "1     AYUDA! Hoy un camión de CDMX EMPUJÓ a @JennyDi...       NEU\n",
       "2     @lumendoz @Claudiashein @GobCDMX @genarolozano...       NEG\n",
       "3     Alguien con ganas de jugar #Tenis ?\\nEn #CDMX ...       POS\n",
       "4     \"Colmo de los colmos\" que el @INEMexico no val...       NEG\n",
       "...                                                 ...       ...\n",
       "5994  RT @LourdesSalome3: Conozcan a esta diputada f...       NEU\n",
       "5995  RT @izcalliciudadan: @alfredodelmazo Woww en C...       NEU\n",
       "5996  ¡QUE TODOS CONOZCAN TU NEGOCIO O SERVICIO!\\n\\n...       NEU\n",
       "5997         RT @MonitorFinan0: https://t.co/NXVg8Iojy8       NEU\n",
       "5998  RT @Reinadee_izcali: Alguien debería decirle a...       NEG\n",
       "\n",
       "[5999 rows x 2 columns]"
      ]
     },
     "execution_count": 12,
     "metadata": {},
     "output_type": "execute_result"
    }
   ],
   "source": [
    "DF.rename(columns = {'Tweet':'tweet_text'}, inplace = True)\n",
    "DF"
   ]
  },
  {
   "cell_type": "markdown",
   "id": "b73815f3",
   "metadata": {},
   "source": [
    "## Lists Creation"
   ]
  },
  {
   "cell_type": "markdown",
   "id": "3ba16db9",
   "metadata": {},
   "source": [
    "### Original list: list_org\n",
    "### Cleansed list: Tweet_Text_Limpia_List\n",
    "### Cleansed ENGLISH list: Tweet_Text_Limpia_List_ENGLISH"
   ]
  },
  {
   "cell_type": "markdown",
   "id": "65d07e98",
   "metadata": {},
   "source": [
    "List: original tweets"
   ]
  },
  {
   "cell_type": "code",
   "execution_count": 13,
   "id": "8c20c805",
   "metadata": {},
   "outputs": [],
   "source": [
    "list_org = DF['tweet_text'].tolist()"
   ]
  },
  {
   "cell_type": "markdown",
   "id": "9a566aad",
   "metadata": {},
   "source": [
    "List: original tweets CLEAN"
   ]
  },
  {
   "cell_type": "code",
   "execution_count": 14,
   "id": "5cfd4a5c",
   "metadata": {},
   "outputs": [],
   "source": [
    "DFpro = DF\n",
    "\n",
    "DFpro['tweet_text_Limpia'] = DFpro['tweet_text']"
   ]
  },
  {
   "cell_type": "code",
   "execution_count": 15,
   "id": "3e345047",
   "metadata": {},
   "outputs": [
    {
     "name": "stderr",
     "output_type": "stream",
     "text": [
      "C:\\Users\\Rodrigo\\AppData\\Local\\Temp\\ipykernel_47004\\2406784520.py:2: FutureWarning: The default value of regex will change from True to False in a future version.\n",
      "  DFpro['tweet_text_Limpia'] = DFpro['tweet_text_Limpia'].str.replace(r'\\S*@\\S*\\s?' , '')\n",
      "C:\\Users\\Rodrigo\\AppData\\Local\\Temp\\ipykernel_47004\\2406784520.py:4: FutureWarning: The default value of regex will change from True to False in a future version.\n",
      "  DFpro['tweet_text_Limpia'] = DFpro['tweet_text_Limpia'].str.replace(r'@\\S*\\s?' , '')\n",
      "C:\\Users\\Rodrigo\\AppData\\Local\\Temp\\ipykernel_47004\\2406784520.py:6: FutureWarning: The default value of regex will change from True to False in a future version.\n",
      "  DFpro['tweet_text_Limpia'] = DFpro['tweet_text_Limpia'].str.replace('http\\S+|www.\\S+', '', case=False)\n",
      "C:\\Users\\Rodrigo\\AppData\\Local\\Temp\\ipykernel_47004\\2406784520.py:8: FutureWarning: The default value of regex will change from True to False in a future version.\n",
      "  DFpro['tweet_text_Limpia'] = DFpro['tweet_text_Limpia'].str.replace(r'\\?|\\\\|\\!|\\\"|\\#|\\$|\\%|\\&|\\'|\\[|\\^|\\||\\,|\\¿|\\¡|\\_|\\=|\\>|\\[|\\^|\\`|\\{|\\}|\\~|\\[|\\]|\\*|\\+|\\@|\\/|\\-|\\:|\\?|\\¡|\\¿||\\.|\\\\|\\“|\\”|\\(|\\)|\\;|\\’|\\;|\\`|\\´|\\-|\\·|\\<|\\º|\\ª' , '')\n",
      "C:\\Users\\Rodrigo\\AppData\\Local\\Temp\\ipykernel_47004\\2406784520.py:10: FutureWarning: The default value of regex will change from True to False in a future version.\n",
      "  DFpro['tweet_text_Limpia'] = DFpro['tweet_text_Limpia'].str.replace(r'\\nd', '')\n",
      "C:\\Users\\Rodrigo\\AppData\\Local\\Temp\\ipykernel_47004\\2406784520.py:12: FutureWarning: The default value of regex will change from True to False in a future version.\n",
      "  DFpro['tweet_text_Limpia'] = DFpro['tweet_text_Limpia'].str.replace(r'\\n', '')\n",
      "C:\\Users\\Rodrigo\\AppData\\Local\\Temp\\ipykernel_47004\\2406784520.py:14: FutureWarning: The default value of regex will change from True to False in a future version.\n",
      "  DFpro['tweet_text_Limpia'] = DFpro['tweet_text_Limpia'].str.replace(r'\\B(\\#[a-zA-Z]+\\b)(?!;)', '')\n",
      "C:\\Users\\Rodrigo\\AppData\\Local\\Temp\\ipykernel_47004\\2406784520.py:16: FutureWarning: The default value of regex will change from True to False in a future version.\n",
      "  DFpro['tweet_text_Limpia'] = DFpro['tweet_text_Limpia'].str.replace(r'[^a-zA-Z0-9|\\s]' , '')\n",
      "C:\\Users\\Rodrigo\\AppData\\Local\\Temp\\ipykernel_47004\\2406784520.py:20: FutureWarning: The default value of regex will change from True to False in a future version.\n",
      "  DFpro['tweet_text_Limpia'] = DFpro['tweet_text_Limpia'].str.replace(r'\\b\\w{1,2}\\b','')\n"
     ]
    }
   ],
   "source": [
    "#exclude emails\n",
    "DFpro['tweet_text_Limpia'] = DFpro['tweet_text_Limpia'].str.replace(r'\\S*@\\S*\\s?' , '')\n",
    "#Exclude mentions\n",
    "DFpro['tweet_text_Limpia'] = DFpro['tweet_text_Limpia'].str.replace(r'@\\S*\\s?' , '')\n",
    "#exclude urls\n",
    "DFpro['tweet_text_Limpia'] = DFpro['tweet_text_Limpia'].str.replace('http\\S+|www.\\S+', '', case=False)\n",
    "#Exclude symbols or punctuations\n",
    "DFpro['tweet_text_Limpia'] = DFpro['tweet_text_Limpia'].str.replace(r'\\?|\\\\|\\!|\\\"|\\#|\\$|\\%|\\&|\\'|\\[|\\^|\\||\\,|\\¿|\\¡|\\_|\\=|\\>|\\[|\\^|\\`|\\{|\\}|\\~|\\[|\\]|\\*|\\+|\\@|\\/|\\-|\\:|\\?|\\¡|\\¿||\\.|\\\\|\\“|\\”|\\(|\\)|\\;|\\’|\\;|\\`|\\´|\\-|\\·|\\<|\\º|\\ª' , '')\n",
    "#Exclude special case symbol '\\nd'\n",
    "DFpro['tweet_text_Limpia'] = DFpro['tweet_text_Limpia'].str.replace(r'\\nd', '')\n",
    "#Exclude special case symbol '\\n'\n",
    "DFpro['tweet_text_Limpia'] = DFpro['tweet_text_Limpia'].str.replace(r'\\n', '')\n",
    "#Exclude cases of hashtags\n",
    "DFpro['tweet_text_Limpia'] = DFpro['tweet_text_Limpia'].str.replace(r'\\B(\\#[a-zA-Z]+\\b)(?!;)', '')\n",
    "# Consider only alphanumeric\n",
    "DFpro['tweet_text_Limpia'] = DFpro['tweet_text_Limpia'].str.replace(r'[^a-zA-Z0-9|\\s]' , '')\n",
    "# Lower Case process\n",
    "DFpro['tweet_text_Limpia'] = DFpro['tweet_text_Limpia'].str.lower()\n",
    "#Eliminate words length <= 2 \n",
    "DFpro['tweet_text_Limpia'] = DFpro['tweet_text_Limpia'].str.replace(r'\\b\\w{1,2}\\b','')"
   ]
  },
  {
   "cell_type": "code",
   "execution_count": 16,
   "id": "2bbdd13d",
   "metadata": {},
   "outputs": [
    {
     "data": {
      "text/html": [
       "<div>\n",
       "<style scoped>\n",
       "    .dataframe tbody tr th:only-of-type {\n",
       "        vertical-align: middle;\n",
       "    }\n",
       "\n",
       "    .dataframe tbody tr th {\n",
       "        vertical-align: top;\n",
       "    }\n",
       "\n",
       "    .dataframe thead th {\n",
       "        text-align: right;\n",
       "    }\n",
       "</style>\n",
       "<table border=\"1\" class=\"dataframe\">\n",
       "  <thead>\n",
       "    <tr style=\"text-align: right;\">\n",
       "      <th></th>\n",
       "      <th>tweet_text</th>\n",
       "      <th>Sentiment</th>\n",
       "      <th>tweet_text_Limpia</th>\n",
       "    </tr>\n",
       "  </thead>\n",
       "  <tbody>\n",
       "    <tr>\n",
       "      <th>0</th>\n",
       "      <td>¿Algo que decir @Claudiashein @OHarfuch @SSC_C...</td>\n",
       "      <td>NEU</td>\n",
       "      <td>algo que decir</td>\n",
       "    </tr>\n",
       "    <tr>\n",
       "      <th>1</th>\n",
       "      <td>AYUDA! Hoy un camión de CDMX EMPUJÓ a @JennyDi...</td>\n",
       "      <td>NEU</td>\n",
       "      <td>ayuda hoy  camin  cdmx empuj   silla  ruedas q...</td>\n",
       "    </tr>\n",
       "    <tr>\n",
       "      <th>2</th>\n",
       "      <td>@lumendoz @Claudiashein @GobCDMX @genarolozano...</td>\n",
       "      <td>NEG</td>\n",
       "      <td>que luchas por causas sociales aqu  gobierno ...</td>\n",
       "    </tr>\n",
       "    <tr>\n",
       "      <th>3</th>\n",
       "      <td>Alguien con ganas de jugar #Tenis ?\\nEn #CDMX ...</td>\n",
       "      <td>POS</td>\n",
       "      <td>alguien con ganas  jugar tenis  cdmx ciudad  m...</td>\n",
       "    </tr>\n",
       "    <tr>\n",
       "      <th>4</th>\n",
       "      <td>\"Colmo de los colmos\" que el @INEMexico no val...</td>\n",
       "      <td>NEG</td>\n",
       "      <td>colmo  los colmos que   valide  revocacindeman...</td>\n",
       "    </tr>\n",
       "    <tr>\n",
       "      <th>...</th>\n",
       "      <td>...</td>\n",
       "      <td>...</td>\n",
       "      <td>...</td>\n",
       "    </tr>\n",
       "    <tr>\n",
       "      <th>5994</th>\n",
       "      <td>RT @LourdesSalome3: Conozcan a esta diputada f...</td>\n",
       "      <td>NEU</td>\n",
       "      <td>conozcan  esta diputada federal como  traidor...</td>\n",
       "    </tr>\n",
       "    <tr>\n",
       "      <th>5995</th>\n",
       "      <td>RT @izcalliciudadan: @alfredodelmazo Woww en C...</td>\n",
       "      <td>NEU</td>\n",
       "      <td>woww  cuautitln izcalli  hay ninguna sedegracias</td>\n",
       "    </tr>\n",
       "    <tr>\n",
       "      <th>5996</th>\n",
       "      <td>¡QUE TODOS CONOZCAN TU NEGOCIO O SERVICIO!\\n\\n...</td>\n",
       "      <td>NEU</td>\n",
       "      <td>que todos conozcan  negocio  servicioannciate ...</td>\n",
       "    </tr>\n",
       "    <tr>\n",
       "      <th>5997</th>\n",
       "      <td>RT @MonitorFinan0: https://t.co/NXVg8Iojy8</td>\n",
       "      <td>NEU</td>\n",
       "      <td></td>\n",
       "    </tr>\n",
       "    <tr>\n",
       "      <th>5998</th>\n",
       "      <td>RT @Reinadee_izcali: Alguien debería decirle a...</td>\n",
       "      <td>NEG</td>\n",
       "      <td>alguien debera decirle  que    risa  qued   2...</td>\n",
       "    </tr>\n",
       "  </tbody>\n",
       "</table>\n",
       "<p>5999 rows × 3 columns</p>\n",
       "</div>"
      ],
      "text/plain": [
       "                                             tweet_text Sentiment  \\\n",
       "0     ¿Algo que decir @Claudiashein @OHarfuch @SSC_C...       NEU   \n",
       "1     AYUDA! Hoy un camión de CDMX EMPUJÓ a @JennyDi...       NEU   \n",
       "2     @lumendoz @Claudiashein @GobCDMX @genarolozano...       NEG   \n",
       "3     Alguien con ganas de jugar #Tenis ?\\nEn #CDMX ...       POS   \n",
       "4     \"Colmo de los colmos\" que el @INEMexico no val...       NEG   \n",
       "...                                                 ...       ...   \n",
       "5994  RT @LourdesSalome3: Conozcan a esta diputada f...       NEU   \n",
       "5995  RT @izcalliciudadan: @alfredodelmazo Woww en C...       NEU   \n",
       "5996  ¡QUE TODOS CONOZCAN TU NEGOCIO O SERVICIO!\\n\\n...       NEU   \n",
       "5997         RT @MonitorFinan0: https://t.co/NXVg8Iojy8       NEU   \n",
       "5998  RT @Reinadee_izcali: Alguien debería decirle a...       NEG   \n",
       "\n",
       "                                      tweet_text_Limpia  \n",
       "0                                       algo que decir   \n",
       "1     ayuda hoy  camin  cdmx empuj   silla  ruedas q...  \n",
       "2      que luchas por causas sociales aqu  gobierno ...  \n",
       "3     alguien con ganas  jugar tenis  cdmx ciudad  m...  \n",
       "4     colmo  los colmos que   valide  revocacindeman...  \n",
       "...                                                 ...  \n",
       "5994   conozcan  esta diputada federal como  traidor...  \n",
       "5995   woww  cuautitln izcalli  hay ninguna sedegracias  \n",
       "5996  que todos conozcan  negocio  servicioannciate ...  \n",
       "5997                                                     \n",
       "5998   alguien debera decirle  que    risa  qued   2...  \n",
       "\n",
       "[5999 rows x 3 columns]"
      ]
     },
     "execution_count": 16,
     "metadata": {},
     "output_type": "execute_result"
    }
   ],
   "source": [
    "DFpro"
   ]
  },
  {
   "cell_type": "code",
   "execution_count": 17,
   "id": "3372a024",
   "metadata": {},
   "outputs": [],
   "source": [
    "# Creación de lista Tweet Limpia\n",
    "\n",
    "Tweet_Text_Limpia_List = DFpro['tweet_text_Limpia'].tolist()"
   ]
  },
  {
   "cell_type": "markdown",
   "id": "8febc72b",
   "metadata": {},
   "source": [
    "List: original clean tweets translated to english"
   ]
  },
  {
   "cell_type": "code",
   "execution_count": 18,
   "id": "4ed16d6a",
   "metadata": {},
   "outputs": [],
   "source": [
    "translator = Translator()\n",
    "\n",
    "Tweet_Text_Limpia_List_ENGLISH = []\n",
    "\n",
    "for index, row in DFpro.iterrows():\n",
    "    Tweet_Text_Limpia_List_ENGLISH.append(translator.translate(row['tweet_text_Limpia'], dest='en').text)\n"
   ]
  },
  {
   "cell_type": "code",
   "execution_count": 19,
   "id": "82d0f931-6d4d-4cfb-9945-ae67583cce46",
   "metadata": {},
   "outputs": [
    {
     "name": "stdout",
     "output_type": "stream",
     "text": [
      "5999\n"
     ]
    }
   ],
   "source": [
    "print(len(Tweet_Text_Limpia_List_ENGLISH))"
   ]
  },
  {
   "cell_type": "markdown",
   "id": "253d5923",
   "metadata": {},
   "source": [
    "## Procedure ORIGINAL"
   ]
  },
  {
   "cell_type": "code",
   "execution_count": 20,
   "id": "b1206ae9",
   "metadata": {},
   "outputs": [],
   "source": [
    "data = list_org"
   ]
  },
  {
   "cell_type": "markdown",
   "id": "fc3d65e4-5bdf-4a6d-9292-7f54417f7fad",
   "metadata": {},
   "source": [
    "## Modelo 1 - sentiment-analysis"
   ]
  },
  {
   "cell_type": "code",
   "execution_count": 21,
   "id": "3b8c7097",
   "metadata": {},
   "outputs": [
    {
     "name": "stderr",
     "output_type": "stream",
     "text": [
      "No model was supplied, defaulted to distilbert-base-uncased-finetuned-sst-2-english (https://huggingface.co/distilbert-base-uncased-finetuned-sst-2-english)\n",
      "https://huggingface.co/distilbert-base-uncased-finetuned-sst-2-english/resolve/main/config.json not found in cache or force_download set to True, downloading to C:\\Users\\Rodrigo\\.cache\\huggingface\\transformers\\tmpqttakl5f\n"
     ]
    },
    {
     "data": {
      "application/vnd.jupyter.widget-view+json": {
       "model_id": "5b0cdcb7086745c89ff99578650b3f68",
       "version_major": 2,
       "version_minor": 0
      },
      "text/plain": [
       "Downloading:   0%|          | 0.00/629 [00:00<?, ?B/s]"
      ]
     },
     "metadata": {},
     "output_type": "display_data"
    },
    {
     "name": "stderr",
     "output_type": "stream",
     "text": [
      "storing https://huggingface.co/distilbert-base-uncased-finetuned-sst-2-english/resolve/main/config.json in cache at C:\\Users\\Rodrigo/.cache\\huggingface\\transformers\\4e60bb8efad3d4b7dc9969bf204947c185166a0a3cf37ddb6f481a876a3777b5.9f8326d0b7697c7fd57366cdde57032f46bc10e37ae81cb7eb564d66d23ec96b\n",
      "creating metadata file for C:\\Users\\Rodrigo/.cache\\huggingface\\transformers\\4e60bb8efad3d4b7dc9969bf204947c185166a0a3cf37ddb6f481a876a3777b5.9f8326d0b7697c7fd57366cdde57032f46bc10e37ae81cb7eb564d66d23ec96b\n",
      "loading configuration file https://huggingface.co/distilbert-base-uncased-finetuned-sst-2-english/resolve/main/config.json from cache at C:\\Users\\Rodrigo/.cache\\huggingface\\transformers\\4e60bb8efad3d4b7dc9969bf204947c185166a0a3cf37ddb6f481a876a3777b5.9f8326d0b7697c7fd57366cdde57032f46bc10e37ae81cb7eb564d66d23ec96b\n",
      "Model config DistilBertConfig {\n",
      "  \"_name_or_path\": \"distilbert-base-uncased-finetuned-sst-2-english\",\n",
      "  \"activation\": \"gelu\",\n",
      "  \"architectures\": [\n",
      "    \"DistilBertForSequenceClassification\"\n",
      "  ],\n",
      "  \"attention_dropout\": 0.1,\n",
      "  \"dim\": 768,\n",
      "  \"dropout\": 0.1,\n",
      "  \"finetuning_task\": \"sst-2\",\n",
      "  \"hidden_dim\": 3072,\n",
      "  \"id2label\": {\n",
      "    \"0\": \"NEGATIVE\",\n",
      "    \"1\": \"POSITIVE\"\n",
      "  },\n",
      "  \"initializer_range\": 0.02,\n",
      "  \"label2id\": {\n",
      "    \"NEGATIVE\": 0,\n",
      "    \"POSITIVE\": 1\n",
      "  },\n",
      "  \"max_position_embeddings\": 512,\n",
      "  \"model_type\": \"distilbert\",\n",
      "  \"n_heads\": 12,\n",
      "  \"n_layers\": 6,\n",
      "  \"output_past\": true,\n",
      "  \"pad_token_id\": 0,\n",
      "  \"qa_dropout\": 0.1,\n",
      "  \"seq_classif_dropout\": 0.2,\n",
      "  \"sinusoidal_pos_embds\": false,\n",
      "  \"tie_weights_\": true,\n",
      "  \"transformers_version\": \"4.19.2\",\n",
      "  \"vocab_size\": 30522\n",
      "}\n",
      "\n",
      "loading configuration file https://huggingface.co/distilbert-base-uncased-finetuned-sst-2-english/resolve/main/config.json from cache at C:\\Users\\Rodrigo/.cache\\huggingface\\transformers\\4e60bb8efad3d4b7dc9969bf204947c185166a0a3cf37ddb6f481a876a3777b5.9f8326d0b7697c7fd57366cdde57032f46bc10e37ae81cb7eb564d66d23ec96b\n",
      "Model config DistilBertConfig {\n",
      "  \"_name_or_path\": \"distilbert-base-uncased-finetuned-sst-2-english\",\n",
      "  \"activation\": \"gelu\",\n",
      "  \"architectures\": [\n",
      "    \"DistilBertForSequenceClassification\"\n",
      "  ],\n",
      "  \"attention_dropout\": 0.1,\n",
      "  \"dim\": 768,\n",
      "  \"dropout\": 0.1,\n",
      "  \"finetuning_task\": \"sst-2\",\n",
      "  \"hidden_dim\": 3072,\n",
      "  \"id2label\": {\n",
      "    \"0\": \"NEGATIVE\",\n",
      "    \"1\": \"POSITIVE\"\n",
      "  },\n",
      "  \"initializer_range\": 0.02,\n",
      "  \"label2id\": {\n",
      "    \"NEGATIVE\": 0,\n",
      "    \"POSITIVE\": 1\n",
      "  },\n",
      "  \"max_position_embeddings\": 512,\n",
      "  \"model_type\": \"distilbert\",\n",
      "  \"n_heads\": 12,\n",
      "  \"n_layers\": 6,\n",
      "  \"output_past\": true,\n",
      "  \"pad_token_id\": 0,\n",
      "  \"qa_dropout\": 0.1,\n",
      "  \"seq_classif_dropout\": 0.2,\n",
      "  \"sinusoidal_pos_embds\": false,\n",
      "  \"tie_weights_\": true,\n",
      "  \"transformers_version\": \"4.19.2\",\n",
      "  \"vocab_size\": 30522\n",
      "}\n",
      "\n",
      "https://huggingface.co/distilbert-base-uncased-finetuned-sst-2-english/resolve/main/pytorch_model.bin not found in cache or force_download set to True, downloading to C:\\Users\\Rodrigo\\.cache\\huggingface\\transformers\\tmpo81ll0hu\n"
     ]
    },
    {
     "data": {
      "application/vnd.jupyter.widget-view+json": {
       "model_id": "d44114efe1cf4ba0875bf6d8135b0996",
       "version_major": 2,
       "version_minor": 0
      },
      "text/plain": [
       "Downloading:   0%|          | 0.00/255M [00:00<?, ?B/s]"
      ]
     },
     "metadata": {},
     "output_type": "display_data"
    },
    {
     "name": "stderr",
     "output_type": "stream",
     "text": [
      "storing https://huggingface.co/distilbert-base-uncased-finetuned-sst-2-english/resolve/main/pytorch_model.bin in cache at C:\\Users\\Rodrigo/.cache\\huggingface\\transformers\\8d04c767d9d4c14d929ce7ad8e067b80c74dbdb212ef4c3fb743db4ee109fae0.9d268a35da669ead745c44d369dc9948b408da5010c6bac414414a7e33d5748c\n",
      "creating metadata file for C:\\Users\\Rodrigo/.cache\\huggingface\\transformers\\8d04c767d9d4c14d929ce7ad8e067b80c74dbdb212ef4c3fb743db4ee109fae0.9d268a35da669ead745c44d369dc9948b408da5010c6bac414414a7e33d5748c\n",
      "loading weights file https://huggingface.co/distilbert-base-uncased-finetuned-sst-2-english/resolve/main/pytorch_model.bin from cache at C:\\Users\\Rodrigo/.cache\\huggingface\\transformers\\8d04c767d9d4c14d929ce7ad8e067b80c74dbdb212ef4c3fb743db4ee109fae0.9d268a35da669ead745c44d369dc9948b408da5010c6bac414414a7e33d5748c\n",
      "All model checkpoint weights were used when initializing DistilBertForSequenceClassification.\n",
      "\n",
      "All the weights of DistilBertForSequenceClassification were initialized from the model checkpoint at distilbert-base-uncased-finetuned-sst-2-english.\n",
      "If your task is similar to the task the model of the checkpoint was trained on, you can already use DistilBertForSequenceClassification for predictions without further training.\n",
      "https://huggingface.co/distilbert-base-uncased-finetuned-sst-2-english/resolve/main/tokenizer_config.json not found in cache or force_download set to True, downloading to C:\\Users\\Rodrigo\\.cache\\huggingface\\transformers\\tmp3fw69n8j\n"
     ]
    },
    {
     "data": {
      "application/vnd.jupyter.widget-view+json": {
       "model_id": "13c930f4f3944bec87df2a8115dbaa47",
       "version_major": 2,
       "version_minor": 0
      },
      "text/plain": [
       "Downloading:   0%|          | 0.00/48.0 [00:00<?, ?B/s]"
      ]
     },
     "metadata": {},
     "output_type": "display_data"
    },
    {
     "name": "stderr",
     "output_type": "stream",
     "text": [
      "storing https://huggingface.co/distilbert-base-uncased-finetuned-sst-2-english/resolve/main/tokenizer_config.json in cache at C:\\Users\\Rodrigo/.cache\\huggingface\\transformers\\d44ec0488a5f13d92b3934cb68cc5849bd74ce63ede2eea2bf3c675e1e57297c.627f9558061e7bc67ed0f516b2f7efc1351772cc8553101f08748d44aada8b11\n",
      "creating metadata file for C:\\Users\\Rodrigo/.cache\\huggingface\\transformers\\d44ec0488a5f13d92b3934cb68cc5849bd74ce63ede2eea2bf3c675e1e57297c.627f9558061e7bc67ed0f516b2f7efc1351772cc8553101f08748d44aada8b11\n",
      "loading configuration file https://huggingface.co/distilbert-base-uncased-finetuned-sst-2-english/resolve/main/config.json from cache at C:\\Users\\Rodrigo/.cache\\huggingface\\transformers\\4e60bb8efad3d4b7dc9969bf204947c185166a0a3cf37ddb6f481a876a3777b5.9f8326d0b7697c7fd57366cdde57032f46bc10e37ae81cb7eb564d66d23ec96b\n",
      "Model config DistilBertConfig {\n",
      "  \"_name_or_path\": \"distilbert-base-uncased-finetuned-sst-2-english\",\n",
      "  \"activation\": \"gelu\",\n",
      "  \"architectures\": [\n",
      "    \"DistilBertForSequenceClassification\"\n",
      "  ],\n",
      "  \"attention_dropout\": 0.1,\n",
      "  \"dim\": 768,\n",
      "  \"dropout\": 0.1,\n",
      "  \"finetuning_task\": \"sst-2\",\n",
      "  \"hidden_dim\": 3072,\n",
      "  \"id2label\": {\n",
      "    \"0\": \"NEGATIVE\",\n",
      "    \"1\": \"POSITIVE\"\n",
      "  },\n",
      "  \"initializer_range\": 0.02,\n",
      "  \"label2id\": {\n",
      "    \"NEGATIVE\": 0,\n",
      "    \"POSITIVE\": 1\n",
      "  },\n",
      "  \"max_position_embeddings\": 512,\n",
      "  \"model_type\": \"distilbert\",\n",
      "  \"n_heads\": 12,\n",
      "  \"n_layers\": 6,\n",
      "  \"output_past\": true,\n",
      "  \"pad_token_id\": 0,\n",
      "  \"qa_dropout\": 0.1,\n",
      "  \"seq_classif_dropout\": 0.2,\n",
      "  \"sinusoidal_pos_embds\": false,\n",
      "  \"tie_weights_\": true,\n",
      "  \"transformers_version\": \"4.19.2\",\n",
      "  \"vocab_size\": 30522\n",
      "}\n",
      "\n",
      "https://huggingface.co/distilbert-base-uncased-finetuned-sst-2-english/resolve/main/vocab.txt not found in cache or force_download set to True, downloading to C:\\Users\\Rodrigo\\.cache\\huggingface\\transformers\\tmpewnwfu43\n"
     ]
    },
    {
     "data": {
      "application/vnd.jupyter.widget-view+json": {
       "model_id": "9e2b75fb5a194ae29f28c3f5871bc11e",
       "version_major": 2,
       "version_minor": 0
      },
      "text/plain": [
       "Downloading:   0%|          | 0.00/226k [00:00<?, ?B/s]"
      ]
     },
     "metadata": {},
     "output_type": "display_data"
    },
    {
     "name": "stderr",
     "output_type": "stream",
     "text": [
      "storing https://huggingface.co/distilbert-base-uncased-finetuned-sst-2-english/resolve/main/vocab.txt in cache at C:\\Users\\Rodrigo/.cache\\huggingface\\transformers\\83261b0c74c462e53d6367de0646b1fca07d0f15f1be045156b9cf8c71279cc9.d789d64ebfe299b0e416afc4a169632f903f693095b4629a7ea271d5a0cf2c99\n",
      "creating metadata file for C:\\Users\\Rodrigo/.cache\\huggingface\\transformers\\83261b0c74c462e53d6367de0646b1fca07d0f15f1be045156b9cf8c71279cc9.d789d64ebfe299b0e416afc4a169632f903f693095b4629a7ea271d5a0cf2c99\n",
      "loading file https://huggingface.co/distilbert-base-uncased-finetuned-sst-2-english/resolve/main/vocab.txt from cache at C:\\Users\\Rodrigo/.cache\\huggingface\\transformers\\83261b0c74c462e53d6367de0646b1fca07d0f15f1be045156b9cf8c71279cc9.d789d64ebfe299b0e416afc4a169632f903f693095b4629a7ea271d5a0cf2c99\n",
      "loading file https://huggingface.co/distilbert-base-uncased-finetuned-sst-2-english/resolve/main/tokenizer.json from cache at None\n",
      "loading file https://huggingface.co/distilbert-base-uncased-finetuned-sst-2-english/resolve/main/added_tokens.json from cache at None\n",
      "loading file https://huggingface.co/distilbert-base-uncased-finetuned-sst-2-english/resolve/main/special_tokens_map.json from cache at None\n",
      "loading file https://huggingface.co/distilbert-base-uncased-finetuned-sst-2-english/resolve/main/tokenizer_config.json from cache at C:\\Users\\Rodrigo/.cache\\huggingface\\transformers\\d44ec0488a5f13d92b3934cb68cc5849bd74ce63ede2eea2bf3c675e1e57297c.627f9558061e7bc67ed0f516b2f7efc1351772cc8553101f08748d44aada8b11\n",
      "loading configuration file https://huggingface.co/distilbert-base-uncased-finetuned-sst-2-english/resolve/main/config.json from cache at C:\\Users\\Rodrigo/.cache\\huggingface\\transformers\\4e60bb8efad3d4b7dc9969bf204947c185166a0a3cf37ddb6f481a876a3777b5.9f8326d0b7697c7fd57366cdde57032f46bc10e37ae81cb7eb564d66d23ec96b\n",
      "Model config DistilBertConfig {\n",
      "  \"_name_or_path\": \"distilbert-base-uncased-finetuned-sst-2-english\",\n",
      "  \"activation\": \"gelu\",\n",
      "  \"architectures\": [\n",
      "    \"DistilBertForSequenceClassification\"\n",
      "  ],\n",
      "  \"attention_dropout\": 0.1,\n",
      "  \"dim\": 768,\n",
      "  \"dropout\": 0.1,\n",
      "  \"finetuning_task\": \"sst-2\",\n",
      "  \"hidden_dim\": 3072,\n",
      "  \"id2label\": {\n",
      "    \"0\": \"NEGATIVE\",\n",
      "    \"1\": \"POSITIVE\"\n",
      "  },\n",
      "  \"initializer_range\": 0.02,\n",
      "  \"label2id\": {\n",
      "    \"NEGATIVE\": 0,\n",
      "    \"POSITIVE\": 1\n",
      "  },\n",
      "  \"max_position_embeddings\": 512,\n",
      "  \"model_type\": \"distilbert\",\n",
      "  \"n_heads\": 12,\n",
      "  \"n_layers\": 6,\n",
      "  \"output_past\": true,\n",
      "  \"pad_token_id\": 0,\n",
      "  \"qa_dropout\": 0.1,\n",
      "  \"seq_classif_dropout\": 0.2,\n",
      "  \"sinusoidal_pos_embds\": false,\n",
      "  \"tie_weights_\": true,\n",
      "  \"transformers_version\": \"4.19.2\",\n",
      "  \"vocab_size\": 30522\n",
      "}\n",
      "\n",
      "loading configuration file https://huggingface.co/distilbert-base-uncased-finetuned-sst-2-english/resolve/main/config.json from cache at C:\\Users\\Rodrigo/.cache\\huggingface\\transformers\\4e60bb8efad3d4b7dc9969bf204947c185166a0a3cf37ddb6f481a876a3777b5.9f8326d0b7697c7fd57366cdde57032f46bc10e37ae81cb7eb564d66d23ec96b\n",
      "Model config DistilBertConfig {\n",
      "  \"_name_or_path\": \"distilbert-base-uncased-finetuned-sst-2-english\",\n",
      "  \"activation\": \"gelu\",\n",
      "  \"architectures\": [\n",
      "    \"DistilBertForSequenceClassification\"\n",
      "  ],\n",
      "  \"attention_dropout\": 0.1,\n",
      "  \"dim\": 768,\n",
      "  \"dropout\": 0.1,\n",
      "  \"finetuning_task\": \"sst-2\",\n",
      "  \"hidden_dim\": 3072,\n",
      "  \"id2label\": {\n",
      "    \"0\": \"NEGATIVE\",\n",
      "    \"1\": \"POSITIVE\"\n",
      "  },\n",
      "  \"initializer_range\": 0.02,\n",
      "  \"label2id\": {\n",
      "    \"NEGATIVE\": 0,\n",
      "    \"POSITIVE\": 1\n",
      "  },\n",
      "  \"max_position_embeddings\": 512,\n",
      "  \"model_type\": \"distilbert\",\n",
      "  \"n_heads\": 12,\n",
      "  \"n_layers\": 6,\n",
      "  \"output_past\": true,\n",
      "  \"pad_token_id\": 0,\n",
      "  \"qa_dropout\": 0.1,\n",
      "  \"seq_classif_dropout\": 0.2,\n",
      "  \"sinusoidal_pos_embds\": false,\n",
      "  \"tie_weights_\": true,\n",
      "  \"transformers_version\": \"4.19.2\",\n",
      "  \"vocab_size\": 30522\n",
      "}\n",
      "\n",
      "Disabling tokenizer parallelism, we're using DataLoader multithreading already\n"
     ]
    }
   ],
   "source": [
    "# Using pipeline class to make predictions from models available in the Hub in an easy way \n",
    "sentiment_pipeline = pipeline(\"sentiment-analysis\")\n",
    "lista = sentiment_pipeline(Tweet_Text_Limpia_List)"
   ]
  },
  {
   "cell_type": "markdown",
   "id": "89df817c-6e6b-42f1-a0d4-8d432df31cc6",
   "metadata": {},
   "source": [
    "### Llamar modelo"
   ]
  },
  {
   "cell_type": "code",
   "execution_count": 22,
   "id": "599a8704-8380-4938-a8b3-e8e5fd4901e5",
   "metadata": {},
   "outputs": [
    {
     "name": "stdout",
     "output_type": "stream",
     "text": [
      "<bound method NDFrame.head of                                              tweet_text Sentiment  \\\n",
      "0     ¿Algo que decir @Claudiashein @OHarfuch @SSC_C...       NEU   \n",
      "1     AYUDA! Hoy un camión de CDMX EMPUJÓ a @JennyDi...       NEU   \n",
      "2     @lumendoz @Claudiashein @GobCDMX @genarolozano...       NEG   \n",
      "3     Alguien con ganas de jugar #Tenis ?\\nEn #CDMX ...       POS   \n",
      "4     \"Colmo de los colmos\" que el @INEMexico no val...       NEG   \n",
      "...                                                 ...       ...   \n",
      "5994  RT @LourdesSalome3: Conozcan a esta diputada f...       NEU   \n",
      "5995  RT @izcalliciudadan: @alfredodelmazo Woww en C...       NEU   \n",
      "5996  ¡QUE TODOS CONOZCAN TU NEGOCIO O SERVICIO!\\n\\n...       NEU   \n",
      "5997         RT @MonitorFinan0: https://t.co/NXVg8Iojy8       NEU   \n",
      "5998  RT @Reinadee_izcali: Alguien debería decirle a...       NEG   \n",
      "\n",
      "                                      tweet_text_Limpia     label     score  \n",
      "0                                       algo que decir   NEGATIVE  0.637473  \n",
      "1     ayuda hoy  camin  cdmx empuj   silla  ruedas q...  NEGATIVE  0.980910  \n",
      "2      que luchas por causas sociales aqu  gobierno ...  POSITIVE  0.529788  \n",
      "3     alguien con ganas  jugar tenis  cdmx ciudad  m...  NEGATIVE  0.818995  \n",
      "4     colmo  los colmos que   valide  revocacindeman...  NEGATIVE  0.975155  \n",
      "...                                                 ...       ...       ...  \n",
      "5994   conozcan  esta diputada federal como  traidor...  NEGATIVE  0.973584  \n",
      "5995   woww  cuautitln izcalli  hay ninguna sedegracias  NEGATIVE  0.964987  \n",
      "5996  que todos conozcan  negocio  servicioannciate ...  NEGATIVE  0.978058  \n",
      "5997                                                     POSITIVE  0.748121  \n",
      "5998   alguien debera decirle  que    risa  qued   2...  NEGATIVE  0.973901  \n",
      "\n",
      "[5999 rows x 5 columns]>\n"
     ]
    }
   ],
   "source": [
    "dfs = pd.DataFrame(lista)\n",
    "frames = [DF, dfs]\n",
    "result = pd.concat(frames, axis=1, join='inner')\n",
    "print(result.head)"
   ]
  },
  {
   "cell_type": "markdown",
   "id": "da22cdfb",
   "metadata": {},
   "source": [
    "### Visualizar DF"
   ]
  },
  {
   "cell_type": "code",
   "execution_count": 23,
   "id": "03f0153d",
   "metadata": {},
   "outputs": [
    {
     "data": {
      "text/html": [
       "<div>\n",
       "<style scoped>\n",
       "    .dataframe tbody tr th:only-of-type {\n",
       "        vertical-align: middle;\n",
       "    }\n",
       "\n",
       "    .dataframe tbody tr th {\n",
       "        vertical-align: top;\n",
       "    }\n",
       "\n",
       "    .dataframe thead th {\n",
       "        text-align: right;\n",
       "    }\n",
       "</style>\n",
       "<table border=\"1\" class=\"dataframe\">\n",
       "  <thead>\n",
       "    <tr style=\"text-align: right;\">\n",
       "      <th></th>\n",
       "      <th>tweet_text</th>\n",
       "      <th>Sentiment</th>\n",
       "      <th>tweet_text_Limpia</th>\n",
       "      <th>label</th>\n",
       "      <th>score</th>\n",
       "    </tr>\n",
       "  </thead>\n",
       "  <tbody>\n",
       "    <tr>\n",
       "      <th>5984</th>\n",
       "      <td>RT @izcalliciudadan: Vecinos, no se nos olvide...</td>\n",
       "      <td>NEU</td>\n",
       "      <td>vecinos   nos olvide  participacin  alejandra...</td>\n",
       "      <td>NEGATIVE</td>\n",
       "      <td>0.933046</td>\n",
       "    </tr>\n",
       "    <tr>\n",
       "      <th>5985</th>\n",
       "      <td>RT @GobIzcalli: #AvisoImportante \\n\\nA partir ...</td>\n",
       "      <td>NEU</td>\n",
       "      <td>avisoimportante  partir del jueves   abril  l...</td>\n",
       "      <td>POSITIVE</td>\n",
       "      <td>0.897575</td>\n",
       "    </tr>\n",
       "    <tr>\n",
       "      <th>5986</th>\n",
       "      <td>@jcedomex @SEMOV_Edomex @LuisLimonChavez @Edom...</td>\n",
       "      <td>NEG</td>\n",
       "      <td>esas fotos son   vieja carretera cuautitln tla...</td>\n",
       "      <td>NEGATIVE</td>\n",
       "      <td>0.583818</td>\n",
       "    </tr>\n",
       "    <tr>\n",
       "      <th>5987</th>\n",
       "      <td>Cuautitlán #Izcalli\\nNuevas fechas de vacunaci...</td>\n",
       "      <td>NEU</td>\n",
       "      <td>cuautitln izcallinuevas fechas  vacunacin   lo...</td>\n",
       "      <td>NEGATIVE</td>\n",
       "      <td>0.950119</td>\n",
       "    </tr>\n",
       "    <tr>\n",
       "      <th>5988</th>\n",
       "      <td>La mayor percepción de #inseguridad en los mun...</td>\n",
       "      <td>NEG</td>\n",
       "      <td>mayor percepcin  inseguridad  los municipios ...</td>\n",
       "      <td>NEGATIVE</td>\n",
       "      <td>0.817682</td>\n",
       "    </tr>\n",
       "    <tr>\n",
       "      <th>5989</th>\n",
       "      <td>#DeUltimaHora Rezagados podrán vacunarse contr...</td>\n",
       "      <td>NEU</td>\n",
       "      <td>deultimahora rezagados podrn vacunarse contra ...</td>\n",
       "      <td>NEGATIVE</td>\n",
       "      <td>0.960594</td>\n",
       "    </tr>\n",
       "    <tr>\n",
       "      <th>5990</th>\n",
       "      <td>El Comité tiene el papel fundamental de ser re...</td>\n",
       "      <td>NEU</td>\n",
       "      <td>comit tiene  papel fundamental  ser responsab...</td>\n",
       "      <td>NEGATIVE</td>\n",
       "      <td>0.936546</td>\n",
       "    </tr>\n",
       "    <tr>\n",
       "      <th>5991</th>\n",
       "      <td>Conozcan a esta diputada federal como  #Traido...</td>\n",
       "      <td>NEU</td>\n",
       "      <td>conozcan  esta diputada federal como  traidora...</td>\n",
       "      <td>NEGATIVE</td>\n",
       "      <td>0.973147</td>\n",
       "    </tr>\n",
       "    <tr>\n",
       "      <th>5992</th>\n",
       "      <td>@alfredodelmazo Woww en Cuautitlán Izcalli no ...</td>\n",
       "      <td>NEU</td>\n",
       "      <td>woww  cuautitln izcalli  hay ninguna sedegracias</td>\n",
       "      <td>NEGATIVE</td>\n",
       "      <td>0.964987</td>\n",
       "    </tr>\n",
       "    <tr>\n",
       "      <th>5993</th>\n",
       "      <td>@izcalli_sw Saludos</td>\n",
       "      <td>NEU</td>\n",
       "      <td>saludos</td>\n",
       "      <td>POSITIVE</td>\n",
       "      <td>0.924231</td>\n",
       "    </tr>\n",
       "    <tr>\n",
       "      <th>5994</th>\n",
       "      <td>RT @LourdesSalome3: Conozcan a esta diputada f...</td>\n",
       "      <td>NEU</td>\n",
       "      <td>conozcan  esta diputada federal como  traidor...</td>\n",
       "      <td>NEGATIVE</td>\n",
       "      <td>0.973584</td>\n",
       "    </tr>\n",
       "    <tr>\n",
       "      <th>5995</th>\n",
       "      <td>RT @izcalliciudadan: @alfredodelmazo Woww en C...</td>\n",
       "      <td>NEU</td>\n",
       "      <td>woww  cuautitln izcalli  hay ninguna sedegracias</td>\n",
       "      <td>NEGATIVE</td>\n",
       "      <td>0.964987</td>\n",
       "    </tr>\n",
       "    <tr>\n",
       "      <th>5996</th>\n",
       "      <td>¡QUE TODOS CONOZCAN TU NEGOCIO O SERVICIO!\\n\\n...</td>\n",
       "      <td>NEU</td>\n",
       "      <td>que todos conozcan  negocio  servicioannciate ...</td>\n",
       "      <td>NEGATIVE</td>\n",
       "      <td>0.978058</td>\n",
       "    </tr>\n",
       "    <tr>\n",
       "      <th>5997</th>\n",
       "      <td>RT @MonitorFinan0: https://t.co/NXVg8Iojy8</td>\n",
       "      <td>NEU</td>\n",
       "      <td></td>\n",
       "      <td>POSITIVE</td>\n",
       "      <td>0.748121</td>\n",
       "    </tr>\n",
       "    <tr>\n",
       "      <th>5998</th>\n",
       "      <td>RT @Reinadee_izcali: Alguien debería decirle a...</td>\n",
       "      <td>NEG</td>\n",
       "      <td>alguien debera decirle  que    risa  qued   2...</td>\n",
       "      <td>NEGATIVE</td>\n",
       "      <td>0.973901</td>\n",
       "    </tr>\n",
       "  </tbody>\n",
       "</table>\n",
       "</div>"
      ],
      "text/plain": [
       "                                             tweet_text Sentiment  \\\n",
       "5984  RT @izcalliciudadan: Vecinos, no se nos olvide...       NEU   \n",
       "5985  RT @GobIzcalli: #AvisoImportante \\n\\nA partir ...       NEU   \n",
       "5986  @jcedomex @SEMOV_Edomex @LuisLimonChavez @Edom...       NEG   \n",
       "5987  Cuautitlán #Izcalli\\nNuevas fechas de vacunaci...       NEU   \n",
       "5988  La mayor percepción de #inseguridad en los mun...       NEG   \n",
       "5989  #DeUltimaHora Rezagados podrán vacunarse contr...       NEU   \n",
       "5990  El Comité tiene el papel fundamental de ser re...       NEU   \n",
       "5991  Conozcan a esta diputada federal como  #Traido...       NEU   \n",
       "5992  @alfredodelmazo Woww en Cuautitlán Izcalli no ...       NEU   \n",
       "5993                                @izcalli_sw Saludos       NEU   \n",
       "5994  RT @LourdesSalome3: Conozcan a esta diputada f...       NEU   \n",
       "5995  RT @izcalliciudadan: @alfredodelmazo Woww en C...       NEU   \n",
       "5996  ¡QUE TODOS CONOZCAN TU NEGOCIO O SERVICIO!\\n\\n...       NEU   \n",
       "5997         RT @MonitorFinan0: https://t.co/NXVg8Iojy8       NEU   \n",
       "5998  RT @Reinadee_izcali: Alguien debería decirle a...       NEG   \n",
       "\n",
       "                                      tweet_text_Limpia     label     score  \n",
       "5984   vecinos   nos olvide  participacin  alejandra...  NEGATIVE  0.933046  \n",
       "5985   avisoimportante  partir del jueves   abril  l...  POSITIVE  0.897575  \n",
       "5986  esas fotos son   vieja carretera cuautitln tla...  NEGATIVE  0.583818  \n",
       "5987  cuautitln izcallinuevas fechas  vacunacin   lo...  NEGATIVE  0.950119  \n",
       "5988   mayor percepcin  inseguridad  los municipios ...  NEGATIVE  0.817682  \n",
       "5989  deultimahora rezagados podrn vacunarse contra ...  NEGATIVE  0.960594  \n",
       "5990   comit tiene  papel fundamental  ser responsab...  NEGATIVE  0.936546  \n",
       "5991  conozcan  esta diputada federal como  traidora...  NEGATIVE  0.973147  \n",
       "5992   woww  cuautitln izcalli  hay ninguna sedegracias  NEGATIVE  0.964987  \n",
       "5993                                            saludos  POSITIVE  0.924231  \n",
       "5994   conozcan  esta diputada federal como  traidor...  NEGATIVE  0.973584  \n",
       "5995   woww  cuautitln izcalli  hay ninguna sedegracias  NEGATIVE  0.964987  \n",
       "5996  que todos conozcan  negocio  servicioannciate ...  NEGATIVE  0.978058  \n",
       "5997                                                     POSITIVE  0.748121  \n",
       "5998   alguien debera decirle  que    risa  qued   2...  NEGATIVE  0.973901  "
      ]
     },
     "execution_count": 23,
     "metadata": {},
     "output_type": "execute_result"
    }
   ],
   "source": [
    "result.tail(15)"
   ]
  },
  {
   "cell_type": "markdown",
   "id": "de197c4a-d986-4bec-9acd-cb2b48c45bba",
   "metadata": {},
   "source": [
    "### Confusion Matrix"
   ]
  },
  {
   "cell_type": "code",
   "execution_count": 25,
   "id": "d057ec57-e93e-4376-ab5f-c7974a53c518",
   "metadata": {},
   "outputs": [
    {
     "name": "stdout",
     "output_type": "stream",
     "text": [
      "Predicted  NEGATIVE  POSITIVE\n",
      "Actual                       \n",
      "NEG            1698       309\n",
      "NEU            2862       897\n",
      "POS             171        62\n"
     ]
    }
   ],
   "source": [
    "confusion_matrix = pd.crosstab(result['Sentiment'], result['label'], rownames=['Actual'], colnames=['Predicted'])\n",
    "print(confusion_matrix)"
   ]
  },
  {
   "cell_type": "code",
   "execution_count": 61,
   "id": "f5daaa41",
   "metadata": {},
   "outputs": [
    {
     "name": "stdout",
     "output_type": "stream",
     "text": [
      "1760\n"
     ]
    }
   ],
   "source": [
    "Y1 = (1698+62)\n",
    "print(Y1)"
   ]
  },
  {
   "cell_type": "code",
   "execution_count": 28,
   "id": "6bcd3127",
   "metadata": {},
   "outputs": [
    {
     "name": "stdout",
     "output_type": "stream",
     "text": [
      "0.7857142857142857\n"
     ]
    }
   ],
   "source": [
    "total_accuracy1 = (1760/2240)\n",
    "print(total_accuracy1)\n",
    "# El accuracy de este modelo es de 78.5%"
   ]
  },
  {
   "cell_type": "markdown",
   "id": "5aba715b",
   "metadata": {},
   "source": [
    "## Modelo 2 - finiteautomata/bertweet-base-sentiment-analysis"
   ]
  },
  {
   "cell_type": "code",
   "execution_count": 29,
   "id": "1b702389",
   "metadata": {},
   "outputs": [
    {
     "data": {
      "application/vnd.jupyter.widget-view+json": {
       "model_id": "87a5732d6092499a8c04fde1954d94c1",
       "version_major": 2,
       "version_minor": 0
      },
      "text/plain": [
       "Downloading:   0%|          | 0.00/1.12k [00:00<?, ?B/s]"
      ]
     },
     "metadata": {},
     "output_type": "display_data"
    },
    {
     "name": "stderr",
     "output_type": "stream",
     "text": [
      "https://huggingface.co/finiteautomata/bertweet-base-sentiment-analysis/resolve/main/config.json not found in cache or force_download set to True, downloading to C:\\Users\\Rodrigo\\.cache\\huggingface\\transformers\\tmpx7c50i0a\n"
     ]
    },
    {
     "data": {
      "application/vnd.jupyter.widget-view+json": {
       "model_id": "06f3ab2a76304291adb6480ea6054ae3",
       "version_major": 2,
       "version_minor": 0
      },
      "text/plain": [
       "Downloading:   0%|          | 0.00/890 [00:00<?, ?B/s]"
      ]
     },
     "metadata": {},
     "output_type": "display_data"
    },
    {
     "name": "stderr",
     "output_type": "stream",
     "text": [
      "storing https://huggingface.co/finiteautomata/bertweet-base-sentiment-analysis/resolve/main/config.json in cache at C:\\Users\\Rodrigo/.cache\\huggingface\\transformers\\cb09766f7ba60b5f7a1bb640617b24f1499c4a6f3ab160c4a0ac171e3a377c68.008dca06003188334001a96363da79ced4944abc68d94a2f1e0db786dc5aa08b\n",
      "creating metadata file for C:\\Users\\Rodrigo/.cache\\huggingface\\transformers\\cb09766f7ba60b5f7a1bb640617b24f1499c4a6f3ab160c4a0ac171e3a377c68.008dca06003188334001a96363da79ced4944abc68d94a2f1e0db786dc5aa08b\n",
      "loading configuration file https://huggingface.co/finiteautomata/bertweet-base-sentiment-analysis/resolve/main/config.json from cache at C:\\Users\\Rodrigo/.cache\\huggingface\\transformers\\cb09766f7ba60b5f7a1bb640617b24f1499c4a6f3ab160c4a0ac171e3a377c68.008dca06003188334001a96363da79ced4944abc68d94a2f1e0db786dc5aa08b\n",
      "Model config RobertaConfig {\n",
      "  \"_name_or_path\": \"finiteautomata/bertweet-base-sentiment-analysis\",\n",
      "  \"architectures\": [\n",
      "    \"RobertaForSequenceClassification\"\n",
      "  ],\n",
      "  \"attention_probs_dropout_prob\": 0.1,\n",
      "  \"bos_token_id\": 0,\n",
      "  \"classifier_dropout\": null,\n",
      "  \"eos_token_id\": 2,\n",
      "  \"gradient_checkpointing\": false,\n",
      "  \"hidden_act\": \"gelu\",\n",
      "  \"hidden_dropout_prob\": 0.1,\n",
      "  \"hidden_size\": 768,\n",
      "  \"id2label\": {\n",
      "    \"0\": \"NEG\",\n",
      "    \"1\": \"NEU\",\n",
      "    \"2\": \"POS\"\n",
      "  },\n",
      "  \"initializer_range\": 0.02,\n",
      "  \"intermediate_size\": 3072,\n",
      "  \"label2id\": {\n",
      "    \"NEG\": 0,\n",
      "    \"NEU\": 1,\n",
      "    \"POS\": 2\n",
      "  },\n",
      "  \"layer_norm_eps\": 1e-05,\n",
      "  \"max_position_embeddings\": 130,\n",
      "  \"model_type\": \"roberta\",\n",
      "  \"num_attention_heads\": 12,\n",
      "  \"num_hidden_layers\": 12,\n",
      "  \"pad_token_id\": 1,\n",
      "  \"position_embedding_type\": \"absolute\",\n",
      "  \"problem_type\": \"single_label_classification\",\n",
      "  \"tokenizer_class\": \"BertweetTokenizer\",\n",
      "  \"transformers_version\": \"4.19.2\",\n",
      "  \"type_vocab_size\": 1,\n",
      "  \"use_cache\": true,\n",
      "  \"vocab_size\": 64001\n",
      "}\n",
      "\n",
      "loading configuration file https://huggingface.co/finiteautomata/bertweet-base-sentiment-analysis/resolve/main/config.json from cache at C:\\Users\\Rodrigo/.cache\\huggingface\\transformers\\cb09766f7ba60b5f7a1bb640617b24f1499c4a6f3ab160c4a0ac171e3a377c68.008dca06003188334001a96363da79ced4944abc68d94a2f1e0db786dc5aa08b\n",
      "Model config RobertaConfig {\n",
      "  \"_name_or_path\": \"finiteautomata/bertweet-base-sentiment-analysis\",\n",
      "  \"architectures\": [\n",
      "    \"RobertaForSequenceClassification\"\n",
      "  ],\n",
      "  \"attention_probs_dropout_prob\": 0.1,\n",
      "  \"bos_token_id\": 0,\n",
      "  \"classifier_dropout\": null,\n",
      "  \"eos_token_id\": 2,\n",
      "  \"gradient_checkpointing\": false,\n",
      "  \"hidden_act\": \"gelu\",\n",
      "  \"hidden_dropout_prob\": 0.1,\n",
      "  \"hidden_size\": 768,\n",
      "  \"id2label\": {\n",
      "    \"0\": \"NEG\",\n",
      "    \"1\": \"NEU\",\n",
      "    \"2\": \"POS\"\n",
      "  },\n",
      "  \"initializer_range\": 0.02,\n",
      "  \"intermediate_size\": 3072,\n",
      "  \"label2id\": {\n",
      "    \"NEG\": 0,\n",
      "    \"NEU\": 1,\n",
      "    \"POS\": 2\n",
      "  },\n",
      "  \"layer_norm_eps\": 1e-05,\n",
      "  \"max_position_embeddings\": 130,\n",
      "  \"model_type\": \"roberta\",\n",
      "  \"num_attention_heads\": 12,\n",
      "  \"num_hidden_layers\": 12,\n",
      "  \"pad_token_id\": 1,\n",
      "  \"position_embedding_type\": \"absolute\",\n",
      "  \"problem_type\": \"single_label_classification\",\n",
      "  \"tokenizer_class\": \"BertweetTokenizer\",\n",
      "  \"transformers_version\": \"4.19.2\",\n",
      "  \"type_vocab_size\": 1,\n",
      "  \"use_cache\": true,\n",
      "  \"vocab_size\": 64001\n",
      "}\n",
      "\n",
      "https://huggingface.co/finiteautomata/bertweet-base-sentiment-analysis/resolve/main/pytorch_model.bin not found in cache or force_download set to True, downloading to C:\\Users\\Rodrigo\\.cache\\huggingface\\transformers\\tmp1byp6oti\n"
     ]
    },
    {
     "data": {
      "application/vnd.jupyter.widget-view+json": {
       "model_id": "833a444c5933483583f6de88050a685f",
       "version_major": 2,
       "version_minor": 0
      },
      "text/plain": [
       "Downloading:   0%|          | 0.00/515M [00:00<?, ?B/s]"
      ]
     },
     "metadata": {},
     "output_type": "display_data"
    },
    {
     "name": "stderr",
     "output_type": "stream",
     "text": [
      "storing https://huggingface.co/finiteautomata/bertweet-base-sentiment-analysis/resolve/main/pytorch_model.bin in cache at C:\\Users\\Rodrigo/.cache\\huggingface\\transformers\\2e4719cf8d097772eb75070b88cbc56f1d3b1392fffc5f75032a389ef21d1847.16366ca1277caccb15200478349503b3336a1420ac26d44fc16763354f5a2cae\n",
      "creating metadata file for C:\\Users\\Rodrigo/.cache\\huggingface\\transformers\\2e4719cf8d097772eb75070b88cbc56f1d3b1392fffc5f75032a389ef21d1847.16366ca1277caccb15200478349503b3336a1420ac26d44fc16763354f5a2cae\n",
      "loading weights file https://huggingface.co/finiteautomata/bertweet-base-sentiment-analysis/resolve/main/pytorch_model.bin from cache at C:\\Users\\Rodrigo/.cache\\huggingface\\transformers\\2e4719cf8d097772eb75070b88cbc56f1d3b1392fffc5f75032a389ef21d1847.16366ca1277caccb15200478349503b3336a1420ac26d44fc16763354f5a2cae\n",
      "All model checkpoint weights were used when initializing RobertaForSequenceClassification.\n",
      "\n",
      "All the weights of RobertaForSequenceClassification were initialized from the model checkpoint at finiteautomata/bertweet-base-sentiment-analysis.\n",
      "If your task is similar to the task the model of the checkpoint was trained on, you can already use RobertaForSequenceClassification for predictions without further training.\n",
      "https://huggingface.co/finiteautomata/bertweet-base-sentiment-analysis/resolve/main/tokenizer_config.json not found in cache or force_download set to True, downloading to C:\\Users\\Rodrigo\\.cache\\huggingface\\transformers\\tmpceqpz3c0\n"
     ]
    },
    {
     "data": {
      "application/vnd.jupyter.widget-view+json": {
       "model_id": "adfdf7bca1ad4119b1cced10974173bf",
       "version_major": 2,
       "version_minor": 0
      },
      "text/plain": [
       "Downloading:   0%|          | 0.00/295 [00:00<?, ?B/s]"
      ]
     },
     "metadata": {},
     "output_type": "display_data"
    },
    {
     "name": "stderr",
     "output_type": "stream",
     "text": [
      "storing https://huggingface.co/finiteautomata/bertweet-base-sentiment-analysis/resolve/main/tokenizer_config.json in cache at C:\\Users\\Rodrigo/.cache\\huggingface\\transformers\\61374b71c02fdfd2929a3cdce24c242049e036624e15e18461a3a70cfc35e939.c260b44e952f7f2a825aac395f2ebbed4ac9553800d1e320af246e81a548f37c\n",
      "creating metadata file for C:\\Users\\Rodrigo/.cache\\huggingface\\transformers\\61374b71c02fdfd2929a3cdce24c242049e036624e15e18461a3a70cfc35e939.c260b44e952f7f2a825aac395f2ebbed4ac9553800d1e320af246e81a548f37c\n",
      "loading configuration file https://huggingface.co/finiteautomata/bertweet-base-sentiment-analysis/resolve/main/config.json from cache at C:\\Users\\Rodrigo/.cache\\huggingface\\transformers\\cb09766f7ba60b5f7a1bb640617b24f1499c4a6f3ab160c4a0ac171e3a377c68.008dca06003188334001a96363da79ced4944abc68d94a2f1e0db786dc5aa08b\n",
      "Model config RobertaConfig {\n",
      "  \"_name_or_path\": \"finiteautomata/bertweet-base-sentiment-analysis\",\n",
      "  \"architectures\": [\n",
      "    \"RobertaForSequenceClassification\"\n",
      "  ],\n",
      "  \"attention_probs_dropout_prob\": 0.1,\n",
      "  \"bos_token_id\": 0,\n",
      "  \"classifier_dropout\": null,\n",
      "  \"eos_token_id\": 2,\n",
      "  \"gradient_checkpointing\": false,\n",
      "  \"hidden_act\": \"gelu\",\n",
      "  \"hidden_dropout_prob\": 0.1,\n",
      "  \"hidden_size\": 768,\n",
      "  \"id2label\": {\n",
      "    \"0\": \"NEG\",\n",
      "    \"1\": \"NEU\",\n",
      "    \"2\": \"POS\"\n",
      "  },\n",
      "  \"initializer_range\": 0.02,\n",
      "  \"intermediate_size\": 3072,\n",
      "  \"label2id\": {\n",
      "    \"NEG\": 0,\n",
      "    \"NEU\": 1,\n",
      "    \"POS\": 2\n",
      "  },\n",
      "  \"layer_norm_eps\": 1e-05,\n",
      "  \"max_position_embeddings\": 130,\n",
      "  \"model_type\": \"roberta\",\n",
      "  \"num_attention_heads\": 12,\n",
      "  \"num_hidden_layers\": 12,\n",
      "  \"pad_token_id\": 1,\n",
      "  \"position_embedding_type\": \"absolute\",\n",
      "  \"problem_type\": \"single_label_classification\",\n",
      "  \"tokenizer_class\": \"BertweetTokenizer\",\n",
      "  \"transformers_version\": \"4.19.2\",\n",
      "  \"type_vocab_size\": 1,\n",
      "  \"use_cache\": true,\n",
      "  \"vocab_size\": 64001\n",
      "}\n",
      "\n",
      "https://huggingface.co/finiteautomata/bertweet-base-sentiment-analysis/resolve/main/vocab.txt not found in cache or force_download set to True, downloading to C:\\Users\\Rodrigo\\.cache\\huggingface\\transformers\\tmpp56oh7w_\n"
     ]
    },
    {
     "data": {
      "application/vnd.jupyter.widget-view+json": {
       "model_id": "c06233ecde3e447dbdb5a09a733c5f57",
       "version_major": 2,
       "version_minor": 0
      },
      "text/plain": [
       "Downloading:   0%|          | 0.00/824k [00:00<?, ?B/s]"
      ]
     },
     "metadata": {},
     "output_type": "display_data"
    },
    {
     "name": "stderr",
     "output_type": "stream",
     "text": [
      "storing https://huggingface.co/finiteautomata/bertweet-base-sentiment-analysis/resolve/main/vocab.txt in cache at C:\\Users\\Rodrigo/.cache\\huggingface\\transformers\\973dbacfdf4c488622f01d1a226089e9e3dba130a0c3c11c2e36d49466fa40a8.f8a4dfe5c3c45a26f9df849d732decb191dc0c05ab270799695430332d143982\n",
      "creating metadata file for C:\\Users\\Rodrigo/.cache\\huggingface\\transformers\\973dbacfdf4c488622f01d1a226089e9e3dba130a0c3c11c2e36d49466fa40a8.f8a4dfe5c3c45a26f9df849d732decb191dc0c05ab270799695430332d143982\n",
      "https://huggingface.co/finiteautomata/bertweet-base-sentiment-analysis/resolve/main/bpe.codes not found in cache or force_download set to True, downloading to C:\\Users\\Rodrigo\\.cache\\huggingface\\transformers\\tmpv20xvium\n"
     ]
    },
    {
     "data": {
      "application/vnd.jupyter.widget-view+json": {
       "model_id": "4353860c20c44629aa33734bd10f017d",
       "version_major": 2,
       "version_minor": 0
      },
      "text/plain": [
       "Downloading:   0%|          | 0.00/1.03M [00:00<?, ?B/s]"
      ]
     },
     "metadata": {},
     "output_type": "display_data"
    },
    {
     "name": "stderr",
     "output_type": "stream",
     "text": [
      "storing https://huggingface.co/finiteautomata/bertweet-base-sentiment-analysis/resolve/main/bpe.codes in cache at C:\\Users\\Rodrigo/.cache\\huggingface\\transformers\\0e474c44ff353f3b378fb140e7e6d4431df4ec6142e8b38d584c0dbc5afc3521.75877d86011e5d5d46614d3a21757b705e9d20ed45a019805d25159b4837b0a4\n",
      "creating metadata file for C:\\Users\\Rodrigo/.cache\\huggingface\\transformers\\0e474c44ff353f3b378fb140e7e6d4431df4ec6142e8b38d584c0dbc5afc3521.75877d86011e5d5d46614d3a21757b705e9d20ed45a019805d25159b4837b0a4\n",
      "https://huggingface.co/finiteautomata/bertweet-base-sentiment-analysis/resolve/main/added_tokens.json not found in cache or force_download set to True, downloading to C:\\Users\\Rodrigo\\.cache\\huggingface\\transformers\\tmpzlfrcvic\n"
     ]
    },
    {
     "data": {
      "application/vnd.jupyter.widget-view+json": {
       "model_id": "8403a94f792c43f58d978f0bad7325af",
       "version_major": 2,
       "version_minor": 0
      },
      "text/plain": [
       "Downloading:   0%|          | 0.00/17.0 [00:00<?, ?B/s]"
      ]
     },
     "metadata": {},
     "output_type": "display_data"
    },
    {
     "name": "stderr",
     "output_type": "stream",
     "text": [
      "storing https://huggingface.co/finiteautomata/bertweet-base-sentiment-analysis/resolve/main/added_tokens.json in cache at C:\\Users\\Rodrigo/.cache\\huggingface\\transformers\\fe46927817477a58ec2aa92ef52f8ee6fc9e824d054f4aa6a3c129724dc9c9b7.c1e7052e39d2135302ec27455f6db22e1520e6539942ff60a849c7f83f8ec6dc\n",
      "creating metadata file for C:\\Users\\Rodrigo/.cache\\huggingface\\transformers\\fe46927817477a58ec2aa92ef52f8ee6fc9e824d054f4aa6a3c129724dc9c9b7.c1e7052e39d2135302ec27455f6db22e1520e6539942ff60a849c7f83f8ec6dc\n",
      "https://huggingface.co/finiteautomata/bertweet-base-sentiment-analysis/resolve/main/special_tokens_map.json not found in cache or force_download set to True, downloading to C:\\Users\\Rodrigo\\.cache\\huggingface\\transformers\\tmpmwsvqcz_\n"
     ]
    },
    {
     "data": {
      "application/vnd.jupyter.widget-view+json": {
       "model_id": "0bfa60f8bb6943dd975c658aa50b64cd",
       "version_major": 2,
       "version_minor": 0
      },
      "text/plain": [
       "Downloading:   0%|          | 0.00/150 [00:00<?, ?B/s]"
      ]
     },
     "metadata": {},
     "output_type": "display_data"
    },
    {
     "name": "stderr",
     "output_type": "stream",
     "text": [
      "storing https://huggingface.co/finiteautomata/bertweet-base-sentiment-analysis/resolve/main/special_tokens_map.json in cache at C:\\Users\\Rodrigo/.cache\\huggingface\\transformers\\9413ac0bed76140860deffa0c5a29ee4da7d49a3810da1b4b51b27f790bc9255.0dc5b1041f62041ebbd23b1297f2f573769d5c97d8b7c28180ec86b8f6185aa8\n",
      "creating metadata file for C:\\Users\\Rodrigo/.cache\\huggingface\\transformers\\9413ac0bed76140860deffa0c5a29ee4da7d49a3810da1b4b51b27f790bc9255.0dc5b1041f62041ebbd23b1297f2f573769d5c97d8b7c28180ec86b8f6185aa8\n",
      "loading file https://huggingface.co/finiteautomata/bertweet-base-sentiment-analysis/resolve/main/vocab.txt from cache at C:\\Users\\Rodrigo/.cache\\huggingface\\transformers\\973dbacfdf4c488622f01d1a226089e9e3dba130a0c3c11c2e36d49466fa40a8.f8a4dfe5c3c45a26f9df849d732decb191dc0c05ab270799695430332d143982\n",
      "loading file https://huggingface.co/finiteautomata/bertweet-base-sentiment-analysis/resolve/main/bpe.codes from cache at C:\\Users\\Rodrigo/.cache\\huggingface\\transformers\\0e474c44ff353f3b378fb140e7e6d4431df4ec6142e8b38d584c0dbc5afc3521.75877d86011e5d5d46614d3a21757b705e9d20ed45a019805d25159b4837b0a4\n",
      "loading file https://huggingface.co/finiteautomata/bertweet-base-sentiment-analysis/resolve/main/added_tokens.json from cache at C:\\Users\\Rodrigo/.cache\\huggingface\\transformers\\fe46927817477a58ec2aa92ef52f8ee6fc9e824d054f4aa6a3c129724dc9c9b7.c1e7052e39d2135302ec27455f6db22e1520e6539942ff60a849c7f83f8ec6dc\n",
      "loading file https://huggingface.co/finiteautomata/bertweet-base-sentiment-analysis/resolve/main/special_tokens_map.json from cache at C:\\Users\\Rodrigo/.cache\\huggingface\\transformers\\9413ac0bed76140860deffa0c5a29ee4da7d49a3810da1b4b51b27f790bc9255.0dc5b1041f62041ebbd23b1297f2f573769d5c97d8b7c28180ec86b8f6185aa8\n",
      "loading file https://huggingface.co/finiteautomata/bertweet-base-sentiment-analysis/resolve/main/tokenizer_config.json from cache at C:\\Users\\Rodrigo/.cache\\huggingface\\transformers\\61374b71c02fdfd2929a3cdce24c242049e036624e15e18461a3a70cfc35e939.c260b44e952f7f2a825aac395f2ebbed4ac9553800d1e320af246e81a548f37c\n",
      "loading configuration file https://huggingface.co/finiteautomata/bertweet-base-sentiment-analysis/resolve/main/config.json from cache at C:\\Users\\Rodrigo/.cache\\huggingface\\transformers\\cb09766f7ba60b5f7a1bb640617b24f1499c4a6f3ab160c4a0ac171e3a377c68.008dca06003188334001a96363da79ced4944abc68d94a2f1e0db786dc5aa08b\n",
      "Model config RobertaConfig {\n",
      "  \"_name_or_path\": \"finiteautomata/bertweet-base-sentiment-analysis\",\n",
      "  \"architectures\": [\n",
      "    \"RobertaForSequenceClassification\"\n",
      "  ],\n",
      "  \"attention_probs_dropout_prob\": 0.1,\n",
      "  \"bos_token_id\": 0,\n",
      "  \"classifier_dropout\": null,\n",
      "  \"eos_token_id\": 2,\n",
      "  \"gradient_checkpointing\": false,\n",
      "  \"hidden_act\": \"gelu\",\n",
      "  \"hidden_dropout_prob\": 0.1,\n",
      "  \"hidden_size\": 768,\n",
      "  \"id2label\": {\n",
      "    \"0\": \"NEG\",\n",
      "    \"1\": \"NEU\",\n",
      "    \"2\": \"POS\"\n",
      "  },\n",
      "  \"initializer_range\": 0.02,\n",
      "  \"intermediate_size\": 3072,\n",
      "  \"label2id\": {\n",
      "    \"NEG\": 0,\n",
      "    \"NEU\": 1,\n",
      "    \"POS\": 2\n",
      "  },\n",
      "  \"layer_norm_eps\": 1e-05,\n",
      "  \"max_position_embeddings\": 130,\n",
      "  \"model_type\": \"roberta\",\n",
      "  \"num_attention_heads\": 12,\n",
      "  \"num_hidden_layers\": 12,\n",
      "  \"pad_token_id\": 1,\n",
      "  \"position_embedding_type\": \"absolute\",\n",
      "  \"problem_type\": \"single_label_classification\",\n",
      "  \"tokenizer_class\": \"BertweetTokenizer\",\n",
      "  \"transformers_version\": \"4.19.2\",\n",
      "  \"type_vocab_size\": 1,\n",
      "  \"use_cache\": true,\n",
      "  \"vocab_size\": 64001\n",
      "}\n",
      "\n",
      "Adding <mask> to the vocabulary\n"
     ]
    }
   ],
   "source": [
    "# Using a specific model for sentiment analysis\n",
    "specific_model4 = pipeline(model=\"finiteautomata/bertweet-base-sentiment-analysis\")\n",
    "lista4 = specific_model4(Tweet_Text_Limpia_List)"
   ]
  },
  {
   "cell_type": "markdown",
   "id": "c6dc3b70",
   "metadata": {},
   "source": [
    "### Llamar modelo"
   ]
  },
  {
   "cell_type": "code",
   "execution_count": 30,
   "id": "e4f17273-19a4-4125-8372-f7af095aaf5a",
   "metadata": {},
   "outputs": [
    {
     "name": "stdout",
     "output_type": "stream",
     "text": [
      "<bound method NDFrame.head of                                              tweet_text Sentiment  \\\n",
      "0     ¿Algo que decir @Claudiashein @OHarfuch @SSC_C...       NEU   \n",
      "1     AYUDA! Hoy un camión de CDMX EMPUJÓ a @JennyDi...       NEU   \n",
      "2     @lumendoz @Claudiashein @GobCDMX @genarolozano...       NEG   \n",
      "3     Alguien con ganas de jugar #Tenis ?\\nEn #CDMX ...       POS   \n",
      "4     \"Colmo de los colmos\" que el @INEMexico no val...       NEG   \n",
      "...                                                 ...       ...   \n",
      "5994  RT @LourdesSalome3: Conozcan a esta diputada f...       NEU   \n",
      "5995  RT @izcalliciudadan: @alfredodelmazo Woww en C...       NEU   \n",
      "5996  ¡QUE TODOS CONOZCAN TU NEGOCIO O SERVICIO!\\n\\n...       NEU   \n",
      "5997         RT @MonitorFinan0: https://t.co/NXVg8Iojy8       NEU   \n",
      "5998  RT @Reinadee_izcali: Alguien debería decirle a...       NEG   \n",
      "\n",
      "                                      tweet_text_Limpia label     score  \n",
      "0                                       algo que decir    NEU  0.944770  \n",
      "1     ayuda hoy  camin  cdmx empuj   silla  ruedas q...   NEU  0.965264  \n",
      "2      que luchas por causas sociales aqu  gobierno ...   NEU  0.969064  \n",
      "3     alguien con ganas  jugar tenis  cdmx ciudad  m...   NEU  0.966969  \n",
      "4     colmo  los colmos que   valide  revocacindeman...   NEU  0.969354  \n",
      "...                                                 ...   ...       ...  \n",
      "5994   conozcan  esta diputada federal como  traidor...   NEU  0.976409  \n",
      "5995   woww  cuautitln izcalli  hay ninguna sedegracias   POS  0.859486  \n",
      "5996  que todos conozcan  negocio  servicioannciate ...   NEU  0.974712  \n",
      "5997                                                      NEU  0.813656  \n",
      "5998   alguien debera decirle  que    risa  qued   2...   NEU  0.957003  \n",
      "\n",
      "[5999 rows x 5 columns]>\n"
     ]
    }
   ],
   "source": [
    "dfs4 = pd.DataFrame(lista4)\n",
    "frames4 = [DF, dfs4]\n",
    "result4 = pd.concat(frames4, axis=1, join='inner')\n",
    "print(result4.head)"
   ]
  },
  {
   "cell_type": "markdown",
   "id": "0204d0ed",
   "metadata": {},
   "source": [
    "### Visualizar DF"
   ]
  },
  {
   "cell_type": "code",
   "execution_count": 31,
   "id": "8249c545",
   "metadata": {},
   "outputs": [
    {
     "data": {
      "text/html": [
       "<div>\n",
       "<style scoped>\n",
       "    .dataframe tbody tr th:only-of-type {\n",
       "        vertical-align: middle;\n",
       "    }\n",
       "\n",
       "    .dataframe tbody tr th {\n",
       "        vertical-align: top;\n",
       "    }\n",
       "\n",
       "    .dataframe thead th {\n",
       "        text-align: right;\n",
       "    }\n",
       "</style>\n",
       "<table border=\"1\" class=\"dataframe\">\n",
       "  <thead>\n",
       "    <tr style=\"text-align: right;\">\n",
       "      <th></th>\n",
       "      <th>tweet_text</th>\n",
       "      <th>Sentiment</th>\n",
       "      <th>tweet_text_Limpia</th>\n",
       "      <th>label</th>\n",
       "      <th>score</th>\n",
       "    </tr>\n",
       "  </thead>\n",
       "  <tbody>\n",
       "    <tr>\n",
       "      <th>0</th>\n",
       "      <td>¿Algo que decir @Claudiashein @OHarfuch @SSC_C...</td>\n",
       "      <td>NEU</td>\n",
       "      <td>algo que decir</td>\n",
       "      <td>NEU</td>\n",
       "      <td>0.944770</td>\n",
       "    </tr>\n",
       "    <tr>\n",
       "      <th>1</th>\n",
       "      <td>AYUDA! Hoy un camión de CDMX EMPUJÓ a @JennyDi...</td>\n",
       "      <td>NEU</td>\n",
       "      <td>ayuda hoy  camin  cdmx empuj   silla  ruedas q...</td>\n",
       "      <td>NEU</td>\n",
       "      <td>0.965264</td>\n",
       "    </tr>\n",
       "    <tr>\n",
       "      <th>2</th>\n",
       "      <td>@lumendoz @Claudiashein @GobCDMX @genarolozano...</td>\n",
       "      <td>NEG</td>\n",
       "      <td>que luchas por causas sociales aqu  gobierno ...</td>\n",
       "      <td>NEU</td>\n",
       "      <td>0.969064</td>\n",
       "    </tr>\n",
       "    <tr>\n",
       "      <th>3</th>\n",
       "      <td>Alguien con ganas de jugar #Tenis ?\\nEn #CDMX ...</td>\n",
       "      <td>POS</td>\n",
       "      <td>alguien con ganas  jugar tenis  cdmx ciudad  m...</td>\n",
       "      <td>NEU</td>\n",
       "      <td>0.966969</td>\n",
       "    </tr>\n",
       "    <tr>\n",
       "      <th>4</th>\n",
       "      <td>\"Colmo de los colmos\" que el @INEMexico no val...</td>\n",
       "      <td>NEG</td>\n",
       "      <td>colmo  los colmos que   valide  revocacindeman...</td>\n",
       "      <td>NEU</td>\n",
       "      <td>0.969354</td>\n",
       "    </tr>\n",
       "  </tbody>\n",
       "</table>\n",
       "</div>"
      ],
      "text/plain": [
       "                                          tweet_text Sentiment  \\\n",
       "0  ¿Algo que decir @Claudiashein @OHarfuch @SSC_C...       NEU   \n",
       "1  AYUDA! Hoy un camión de CDMX EMPUJÓ a @JennyDi...       NEU   \n",
       "2  @lumendoz @Claudiashein @GobCDMX @genarolozano...       NEG   \n",
       "3  Alguien con ganas de jugar #Tenis ?\\nEn #CDMX ...       POS   \n",
       "4  \"Colmo de los colmos\" que el @INEMexico no val...       NEG   \n",
       "\n",
       "                                   tweet_text_Limpia label     score  \n",
       "0                                    algo que decir    NEU  0.944770  \n",
       "1  ayuda hoy  camin  cdmx empuj   silla  ruedas q...   NEU  0.965264  \n",
       "2   que luchas por causas sociales aqu  gobierno ...   NEU  0.969064  \n",
       "3  alguien con ganas  jugar tenis  cdmx ciudad  m...   NEU  0.966969  \n",
       "4  colmo  los colmos que   valide  revocacindeman...   NEU  0.969354  "
      ]
     },
     "execution_count": 31,
     "metadata": {},
     "output_type": "execute_result"
    }
   ],
   "source": [
    "result4.head()"
   ]
  },
  {
   "cell_type": "code",
   "execution_count": 31,
   "id": "df3ce6e3",
   "metadata": {},
   "outputs": [],
   "source": [
    "result4.sentimenttr = result4.sentimenttr.replace({\"NEGATIVE\": \"NEG\"})\n",
    "result4.sentimenttr = result4.sentimenttr.replace({\"POSITIVE\": \"POS\"})\n",
    "result4.sentimenttr = result4.sentimenttr.replace({\"NEUTRAL\": \"NEU\"})"
   ]
  },
  {
   "cell_type": "code",
   "execution_count": 32,
   "id": "13f0559d",
   "metadata": {},
   "outputs": [
    {
     "data": {
      "text/html": [
       "<div>\n",
       "<style scoped>\n",
       "    .dataframe tbody tr th:only-of-type {\n",
       "        vertical-align: middle;\n",
       "    }\n",
       "\n",
       "    .dataframe tbody tr th {\n",
       "        vertical-align: top;\n",
       "    }\n",
       "\n",
       "    .dataframe thead th {\n",
       "        text-align: right;\n",
       "    }\n",
       "</style>\n",
       "<table border=\"1\" class=\"dataframe\">\n",
       "  <thead>\n",
       "    <tr style=\"text-align: right;\">\n",
       "      <th></th>\n",
       "      <th>tweet_text</th>\n",
       "      <th>Sentiment</th>\n",
       "      <th>tweet_text_Limpia</th>\n",
       "      <th>label</th>\n",
       "      <th>score</th>\n",
       "    </tr>\n",
       "  </thead>\n",
       "  <tbody>\n",
       "    <tr>\n",
       "      <th>0</th>\n",
       "      <td>¿Algo que decir @Claudiashein @OHarfuch @SSC_C...</td>\n",
       "      <td>NEU</td>\n",
       "      <td>algo que decir</td>\n",
       "      <td>NEU</td>\n",
       "      <td>0.944770</td>\n",
       "    </tr>\n",
       "    <tr>\n",
       "      <th>1</th>\n",
       "      <td>AYUDA! Hoy un camión de CDMX EMPUJÓ a @JennyDi...</td>\n",
       "      <td>NEU</td>\n",
       "      <td>ayuda hoy  camin  cdmx empuj   silla  ruedas q...</td>\n",
       "      <td>NEU</td>\n",
       "      <td>0.965264</td>\n",
       "    </tr>\n",
       "    <tr>\n",
       "      <th>2</th>\n",
       "      <td>@lumendoz @Claudiashein @GobCDMX @genarolozano...</td>\n",
       "      <td>NEG</td>\n",
       "      <td>que luchas por causas sociales aqu  gobierno ...</td>\n",
       "      <td>NEU</td>\n",
       "      <td>0.969064</td>\n",
       "    </tr>\n",
       "    <tr>\n",
       "      <th>3</th>\n",
       "      <td>Alguien con ganas de jugar #Tenis ?\\nEn #CDMX ...</td>\n",
       "      <td>POS</td>\n",
       "      <td>alguien con ganas  jugar tenis  cdmx ciudad  m...</td>\n",
       "      <td>NEU</td>\n",
       "      <td>0.966969</td>\n",
       "    </tr>\n",
       "    <tr>\n",
       "      <th>4</th>\n",
       "      <td>\"Colmo de los colmos\" que el @INEMexico no val...</td>\n",
       "      <td>NEG</td>\n",
       "      <td>colmo  los colmos que   valide  revocacindeman...</td>\n",
       "      <td>NEU</td>\n",
       "      <td>0.969354</td>\n",
       "    </tr>\n",
       "    <tr>\n",
       "      <th>...</th>\n",
       "      <td>...</td>\n",
       "      <td>...</td>\n",
       "      <td>...</td>\n",
       "      <td>...</td>\n",
       "      <td>...</td>\n",
       "    </tr>\n",
       "    <tr>\n",
       "      <th>5994</th>\n",
       "      <td>RT @LourdesSalome3: Conozcan a esta diputada f...</td>\n",
       "      <td>NEU</td>\n",
       "      <td>conozcan  esta diputada federal como  traidor...</td>\n",
       "      <td>NEU</td>\n",
       "      <td>0.976409</td>\n",
       "    </tr>\n",
       "    <tr>\n",
       "      <th>5995</th>\n",
       "      <td>RT @izcalliciudadan: @alfredodelmazo Woww en C...</td>\n",
       "      <td>NEU</td>\n",
       "      <td>woww  cuautitln izcalli  hay ninguna sedegracias</td>\n",
       "      <td>POS</td>\n",
       "      <td>0.859486</td>\n",
       "    </tr>\n",
       "    <tr>\n",
       "      <th>5996</th>\n",
       "      <td>¡QUE TODOS CONOZCAN TU NEGOCIO O SERVICIO!\\n\\n...</td>\n",
       "      <td>NEU</td>\n",
       "      <td>que todos conozcan  negocio  servicioannciate ...</td>\n",
       "      <td>NEU</td>\n",
       "      <td>0.974712</td>\n",
       "    </tr>\n",
       "    <tr>\n",
       "      <th>5997</th>\n",
       "      <td>RT @MonitorFinan0: https://t.co/NXVg8Iojy8</td>\n",
       "      <td>NEU</td>\n",
       "      <td></td>\n",
       "      <td>NEU</td>\n",
       "      <td>0.813656</td>\n",
       "    </tr>\n",
       "    <tr>\n",
       "      <th>5998</th>\n",
       "      <td>RT @Reinadee_izcali: Alguien debería decirle a...</td>\n",
       "      <td>NEG</td>\n",
       "      <td>alguien debera decirle  que    risa  qued   2...</td>\n",
       "      <td>NEU</td>\n",
       "      <td>0.957003</td>\n",
       "    </tr>\n",
       "  </tbody>\n",
       "</table>\n",
       "<p>5999 rows × 5 columns</p>\n",
       "</div>"
      ],
      "text/plain": [
       "                                             tweet_text Sentiment  \\\n",
       "0     ¿Algo que decir @Claudiashein @OHarfuch @SSC_C...       NEU   \n",
       "1     AYUDA! Hoy un camión de CDMX EMPUJÓ a @JennyDi...       NEU   \n",
       "2     @lumendoz @Claudiashein @GobCDMX @genarolozano...       NEG   \n",
       "3     Alguien con ganas de jugar #Tenis ?\\nEn #CDMX ...       POS   \n",
       "4     \"Colmo de los colmos\" que el @INEMexico no val...       NEG   \n",
       "...                                                 ...       ...   \n",
       "5994  RT @LourdesSalome3: Conozcan a esta diputada f...       NEU   \n",
       "5995  RT @izcalliciudadan: @alfredodelmazo Woww en C...       NEU   \n",
       "5996  ¡QUE TODOS CONOZCAN TU NEGOCIO O SERVICIO!\\n\\n...       NEU   \n",
       "5997         RT @MonitorFinan0: https://t.co/NXVg8Iojy8       NEU   \n",
       "5998  RT @Reinadee_izcali: Alguien debería decirle a...       NEG   \n",
       "\n",
       "                                      tweet_text_Limpia label     score  \n",
       "0                                       algo que decir    NEU  0.944770  \n",
       "1     ayuda hoy  camin  cdmx empuj   silla  ruedas q...   NEU  0.965264  \n",
       "2      que luchas por causas sociales aqu  gobierno ...   NEU  0.969064  \n",
       "3     alguien con ganas  jugar tenis  cdmx ciudad  m...   NEU  0.966969  \n",
       "4     colmo  los colmos que   valide  revocacindeman...   NEU  0.969354  \n",
       "...                                                 ...   ...       ...  \n",
       "5994   conozcan  esta diputada federal como  traidor...   NEU  0.976409  \n",
       "5995   woww  cuautitln izcalli  hay ninguna sedegracias   POS  0.859486  \n",
       "5996  que todos conozcan  negocio  servicioannciate ...   NEU  0.974712  \n",
       "5997                                                      NEU  0.813656  \n",
       "5998   alguien debera decirle  que    risa  qued   2...   NEU  0.957003  \n",
       "\n",
       "[5999 rows x 5 columns]"
      ]
     },
     "execution_count": 32,
     "metadata": {},
     "output_type": "execute_result"
    }
   ],
   "source": [
    "result4"
   ]
  },
  {
   "cell_type": "markdown",
   "id": "3debce57",
   "metadata": {},
   "source": [
    "### Confusion Matrix"
   ]
  },
  {
   "cell_type": "code",
   "execution_count": 33,
   "id": "80b87c9f",
   "metadata": {},
   "outputs": [
    {
     "name": "stdout",
     "output_type": "stream",
     "text": [
      "Predicted  NEG   NEU  POS\n",
      "Actual                   \n",
      "NEG         68  1914   25\n",
      "NEU         50  3649   60\n",
      "POS          2   194   37\n"
     ]
    }
   ],
   "source": [
    "confusion_matrix2 = pd.crosstab(result4['Sentiment'], result4['label'], rownames=['Actual'], colnames=['Predicted'])\n",
    "print(confusion_matrix2)"
   ]
  },
  {
   "cell_type": "code",
   "execution_count": 62,
   "id": "8e03d5a5",
   "metadata": {},
   "outputs": [
    {
     "name": "stdout",
     "output_type": "stream",
     "text": [
      "3754\n"
     ]
    }
   ],
   "source": [
    "Y1 = (68+3649+37)\n",
    "print(Y1)"
   ]
  },
  {
   "cell_type": "code",
   "execution_count": 63,
   "id": "0db8ff5f",
   "metadata": {},
   "outputs": [
    {
     "name": "stdout",
     "output_type": "stream",
     "text": [
      "0.6256666666666667\n"
     ]
    }
   ],
   "source": [
    "total_accuracy1 = (3754/6000)\n",
    "print(total_accuracy1)\n",
    "# El accuracy de este modelo es de 62.5%"
   ]
  },
  {
   "cell_type": "markdown",
   "id": "795cab9f",
   "metadata": {},
   "source": [
    "## Modelo 3 - sagorsarker/codeswitch-spaeng-sentiment-analysis-lince"
   ]
  },
  {
   "cell_type": "code",
   "execution_count": 36,
   "id": "5c9d49be",
   "metadata": {
    "scrolled": true
   },
   "outputs": [
    {
     "data": {
      "application/vnd.jupyter.widget-view+json": {
       "model_id": "88fd41d4910b49f88c9d330302b6df9d",
       "version_major": 2,
       "version_minor": 0
      },
      "text/plain": [
       "Downloading:   0%|          | 0.00/1.28k [00:00<?, ?B/s]"
      ]
     },
     "metadata": {},
     "output_type": "display_data"
    },
    {
     "name": "stderr",
     "output_type": "stream",
     "text": [
      "https://huggingface.co/sagorsarker/codeswitch-spaeng-sentiment-analysis-lince/resolve/main/config.json not found in cache or force_download set to True, downloading to C:\\Users\\Rodrigo\\.cache\\huggingface\\transformers\\tmpev_nirxs\n"
     ]
    },
    {
     "data": {
      "application/vnd.jupyter.widget-view+json": {
       "model_id": "e27552fe879648b4b2194d7479365bba",
       "version_major": 2,
       "version_minor": 0
      },
      "text/plain": [
       "Downloading:   0%|          | 0.00/704 [00:00<?, ?B/s]"
      ]
     },
     "metadata": {},
     "output_type": "display_data"
    },
    {
     "name": "stderr",
     "output_type": "stream",
     "text": [
      "storing https://huggingface.co/sagorsarker/codeswitch-spaeng-sentiment-analysis-lince/resolve/main/config.json in cache at C:\\Users\\Rodrigo/.cache\\huggingface\\transformers\\e0af1948c17654e9c8ffb09825124aa8947a25aa29b085b921d0589bcde9867e.d31a4b62e2e42bef3b200264e2a8eb5d2a8446a463da8737c6b525723f357f4f\n",
      "creating metadata file for C:\\Users\\Rodrigo/.cache\\huggingface\\transformers\\e0af1948c17654e9c8ffb09825124aa8947a25aa29b085b921d0589bcde9867e.d31a4b62e2e42bef3b200264e2a8eb5d2a8446a463da8737c6b525723f357f4f\n",
      "loading configuration file https://huggingface.co/sagorsarker/codeswitch-spaeng-sentiment-analysis-lince/resolve/main/config.json from cache at C:\\Users\\Rodrigo/.cache\\huggingface\\transformers\\e0af1948c17654e9c8ffb09825124aa8947a25aa29b085b921d0589bcde9867e.d31a4b62e2e42bef3b200264e2a8eb5d2a8446a463da8737c6b525723f357f4f\n",
      "Model config BertConfig {\n",
      "  \"_name_or_path\": \"sagorsarker/codeswitch-spaeng-sentiment-analysis-lince\",\n",
      "  \"architectures\": [\n",
      "    \"BertForSequenceClassification\"\n",
      "  ],\n",
      "  \"attention_probs_dropout_prob\": 0.1,\n",
      "  \"classifier_dropout\": null,\n",
      "  \"directionality\": \"bidi\",\n",
      "  \"finetuning_task\": \"sst-2\",\n",
      "  \"gradient_checkpointing\": false,\n",
      "  \"hidden_act\": \"gelu\",\n",
      "  \"hidden_dropout_prob\": 0.1,\n",
      "  \"hidden_size\": 768,\n",
      "  \"initializer_range\": 0.02,\n",
      "  \"intermediate_size\": 3072,\n",
      "  \"layer_norm_eps\": 1e-12,\n",
      "  \"max_position_embeddings\": 512,\n",
      "  \"model_type\": \"bert\",\n",
      "  \"num_attention_heads\": 12,\n",
      "  \"num_hidden_layers\": 12,\n",
      "  \"pad_token_id\": 0,\n",
      "  \"pooler_fc_size\": 768,\n",
      "  \"pooler_num_attention_heads\": 12,\n",
      "  \"pooler_num_fc_layers\": 3,\n",
      "  \"pooler_size_per_head\": 128,\n",
      "  \"pooler_type\": \"first_token_transform\",\n",
      "  \"position_embedding_type\": \"absolute\",\n",
      "  \"transformers_version\": \"4.19.2\",\n",
      "  \"type_vocab_size\": 2,\n",
      "  \"use_cache\": true,\n",
      "  \"vocab_size\": 119547\n",
      "}\n",
      "\n",
      "loading configuration file https://huggingface.co/sagorsarker/codeswitch-spaeng-sentiment-analysis-lince/resolve/main/config.json from cache at C:\\Users\\Rodrigo/.cache\\huggingface\\transformers\\e0af1948c17654e9c8ffb09825124aa8947a25aa29b085b921d0589bcde9867e.d31a4b62e2e42bef3b200264e2a8eb5d2a8446a463da8737c6b525723f357f4f\n",
      "Model config BertConfig {\n",
      "  \"_name_or_path\": \"sagorsarker/codeswitch-spaeng-sentiment-analysis-lince\",\n",
      "  \"architectures\": [\n",
      "    \"BertForSequenceClassification\"\n",
      "  ],\n",
      "  \"attention_probs_dropout_prob\": 0.1,\n",
      "  \"classifier_dropout\": null,\n",
      "  \"directionality\": \"bidi\",\n",
      "  \"finetuning_task\": \"sst-2\",\n",
      "  \"gradient_checkpointing\": false,\n",
      "  \"hidden_act\": \"gelu\",\n",
      "  \"hidden_dropout_prob\": 0.1,\n",
      "  \"hidden_size\": 768,\n",
      "  \"initializer_range\": 0.02,\n",
      "  \"intermediate_size\": 3072,\n",
      "  \"layer_norm_eps\": 1e-12,\n",
      "  \"max_position_embeddings\": 512,\n",
      "  \"model_type\": \"bert\",\n",
      "  \"num_attention_heads\": 12,\n",
      "  \"num_hidden_layers\": 12,\n",
      "  \"pad_token_id\": 0,\n",
      "  \"pooler_fc_size\": 768,\n",
      "  \"pooler_num_attention_heads\": 12,\n",
      "  \"pooler_num_fc_layers\": 3,\n",
      "  \"pooler_size_per_head\": 128,\n",
      "  \"pooler_type\": \"first_token_transform\",\n",
      "  \"position_embedding_type\": \"absolute\",\n",
      "  \"transformers_version\": \"4.19.2\",\n",
      "  \"type_vocab_size\": 2,\n",
      "  \"use_cache\": true,\n",
      "  \"vocab_size\": 119547\n",
      "}\n",
      "\n",
      "https://huggingface.co/sagorsarker/codeswitch-spaeng-sentiment-analysis-lince/resolve/main/pytorch_model.bin not found in cache or force_download set to True, downloading to C:\\Users\\Rodrigo\\.cache\\huggingface\\transformers\\tmp9p49r0jf\n"
     ]
    },
    {
     "data": {
      "application/vnd.jupyter.widget-view+json": {
       "model_id": "a734b5ef600d4996a6fa003c8dd3ad34",
       "version_major": 2,
       "version_minor": 0
      },
      "text/plain": [
       "Downloading:   0%|          | 0.00/679M [00:00<?, ?B/s]"
      ]
     },
     "metadata": {},
     "output_type": "display_data"
    },
    {
     "name": "stderr",
     "output_type": "stream",
     "text": [
      "storing https://huggingface.co/sagorsarker/codeswitch-spaeng-sentiment-analysis-lince/resolve/main/pytorch_model.bin in cache at C:\\Users\\Rodrigo/.cache\\huggingface\\transformers\\5770f9ee0405cd3f4f55ffc0891c05ec8c3d1e3d1c0766ff8e347a928a879c95.8657f81ffb17dad011630256ea7919e4936792c54f40eda3bbf812dc842b90ea\n",
      "creating metadata file for C:\\Users\\Rodrigo/.cache\\huggingface\\transformers\\5770f9ee0405cd3f4f55ffc0891c05ec8c3d1e3d1c0766ff8e347a928a879c95.8657f81ffb17dad011630256ea7919e4936792c54f40eda3bbf812dc842b90ea\n",
      "loading weights file https://huggingface.co/sagorsarker/codeswitch-spaeng-sentiment-analysis-lince/resolve/main/pytorch_model.bin from cache at C:\\Users\\Rodrigo/.cache\\huggingface\\transformers\\5770f9ee0405cd3f4f55ffc0891c05ec8c3d1e3d1c0766ff8e347a928a879c95.8657f81ffb17dad011630256ea7919e4936792c54f40eda3bbf812dc842b90ea\n",
      "All model checkpoint weights were used when initializing BertForSequenceClassification.\n",
      "\n",
      "All the weights of BertForSequenceClassification were initialized from the model checkpoint at sagorsarker/codeswitch-spaeng-sentiment-analysis-lince.\n",
      "If your task is similar to the task the model of the checkpoint was trained on, you can already use BertForSequenceClassification for predictions without further training.\n",
      "https://huggingface.co/sagorsarker/codeswitch-spaeng-sentiment-analysis-lince/resolve/main/tokenizer_config.json not found in cache or force_download set to True, downloading to C:\\Users\\Rodrigo\\.cache\\huggingface\\transformers\\tmpt408vnmg\n"
     ]
    },
    {
     "data": {
      "application/vnd.jupyter.widget-view+json": {
       "model_id": "7f871c97c8994191a4ce6121f1888e73",
       "version_major": 2,
       "version_minor": 0
      },
      "text/plain": [
       "Downloading:   0%|          | 0.00/49.0 [00:00<?, ?B/s]"
      ]
     },
     "metadata": {},
     "output_type": "display_data"
    },
    {
     "name": "stderr",
     "output_type": "stream",
     "text": [
      "storing https://huggingface.co/sagorsarker/codeswitch-spaeng-sentiment-analysis-lince/resolve/main/tokenizer_config.json in cache at C:\\Users\\Rodrigo/.cache\\huggingface\\transformers\\dc2271ee138b90e2e22d91c7203cb3e6927f44d4ccb573e3c6056c2a353160b6.25d8d06fb0679146a3ed2a3463e3585380bff882fe6e1ebc497196e40dbbd7fa\n",
      "creating metadata file for C:\\Users\\Rodrigo/.cache\\huggingface\\transformers\\dc2271ee138b90e2e22d91c7203cb3e6927f44d4ccb573e3c6056c2a353160b6.25d8d06fb0679146a3ed2a3463e3585380bff882fe6e1ebc497196e40dbbd7fa\n",
      "loading configuration file https://huggingface.co/sagorsarker/codeswitch-spaeng-sentiment-analysis-lince/resolve/main/config.json from cache at C:\\Users\\Rodrigo/.cache\\huggingface\\transformers\\e0af1948c17654e9c8ffb09825124aa8947a25aa29b085b921d0589bcde9867e.d31a4b62e2e42bef3b200264e2a8eb5d2a8446a463da8737c6b525723f357f4f\n",
      "Model config BertConfig {\n",
      "  \"_name_or_path\": \"sagorsarker/codeswitch-spaeng-sentiment-analysis-lince\",\n",
      "  \"architectures\": [\n",
      "    \"BertForSequenceClassification\"\n",
      "  ],\n",
      "  \"attention_probs_dropout_prob\": 0.1,\n",
      "  \"classifier_dropout\": null,\n",
      "  \"directionality\": \"bidi\",\n",
      "  \"finetuning_task\": \"sst-2\",\n",
      "  \"gradient_checkpointing\": false,\n",
      "  \"hidden_act\": \"gelu\",\n",
      "  \"hidden_dropout_prob\": 0.1,\n",
      "  \"hidden_size\": 768,\n",
      "  \"initializer_range\": 0.02,\n",
      "  \"intermediate_size\": 3072,\n",
      "  \"layer_norm_eps\": 1e-12,\n",
      "  \"max_position_embeddings\": 512,\n",
      "  \"model_type\": \"bert\",\n",
      "  \"num_attention_heads\": 12,\n",
      "  \"num_hidden_layers\": 12,\n",
      "  \"pad_token_id\": 0,\n",
      "  \"pooler_fc_size\": 768,\n",
      "  \"pooler_num_attention_heads\": 12,\n",
      "  \"pooler_num_fc_layers\": 3,\n",
      "  \"pooler_size_per_head\": 128,\n",
      "  \"pooler_type\": \"first_token_transform\",\n",
      "  \"position_embedding_type\": \"absolute\",\n",
      "  \"transformers_version\": \"4.19.2\",\n",
      "  \"type_vocab_size\": 2,\n",
      "  \"use_cache\": true,\n",
      "  \"vocab_size\": 119547\n",
      "}\n",
      "\n",
      "https://huggingface.co/sagorsarker/codeswitch-spaeng-sentiment-analysis-lince/resolve/main/vocab.txt not found in cache or force_download set to True, downloading to C:\\Users\\Rodrigo\\.cache\\huggingface\\transformers\\tmp4eu6x0ox\n"
     ]
    },
    {
     "data": {
      "application/vnd.jupyter.widget-view+json": {
       "model_id": "f03b9f5950244d348398020983503f1a",
       "version_major": 2,
       "version_minor": 0
      },
      "text/plain": [
       "Downloading:   0%|          | 0.00/972k [00:00<?, ?B/s]"
      ]
     },
     "metadata": {},
     "output_type": "display_data"
    },
    {
     "name": "stderr",
     "output_type": "stream",
     "text": [
      "storing https://huggingface.co/sagorsarker/codeswitch-spaeng-sentiment-analysis-lince/resolve/main/vocab.txt in cache at C:\\Users\\Rodrigo/.cache\\huggingface\\transformers\\7bf57cb9caae382597f6be55aad60b83613e03db8d6a51df7574085304a58d0d.6c5b6600e968f4b5e08c86d8891ea99e51537fc2bf251435fb46922e8f7a7b29\n",
      "creating metadata file for C:\\Users\\Rodrigo/.cache\\huggingface\\transformers\\7bf57cb9caae382597f6be55aad60b83613e03db8d6a51df7574085304a58d0d.6c5b6600e968f4b5e08c86d8891ea99e51537fc2bf251435fb46922e8f7a7b29\n",
      "https://huggingface.co/sagorsarker/codeswitch-spaeng-sentiment-analysis-lince/resolve/main/special_tokens_map.json not found in cache or force_download set to True, downloading to C:\\Users\\Rodrigo\\.cache\\huggingface\\transformers\\tmp70j5d7m0\n"
     ]
    },
    {
     "data": {
      "application/vnd.jupyter.widget-view+json": {
       "model_id": "264302f4b9f649f095496be5d29ab2e6",
       "version_major": 2,
       "version_minor": 0
      },
      "text/plain": [
       "Downloading:   0%|          | 0.00/112 [00:00<?, ?B/s]"
      ]
     },
     "metadata": {},
     "output_type": "display_data"
    },
    {
     "name": "stderr",
     "output_type": "stream",
     "text": [
      "storing https://huggingface.co/sagorsarker/codeswitch-spaeng-sentiment-analysis-lince/resolve/main/special_tokens_map.json in cache at C:\\Users\\Rodrigo/.cache\\huggingface\\transformers\\3576800514f2beb3254d7530c8017dcc24f4098f4519c1cf2e2465fd40f301a3.dd8bd9bfd3664b530ea4e645105f557769387b3da9f79bdb55ed556bdd80611d\n",
      "creating metadata file for C:\\Users\\Rodrigo/.cache\\huggingface\\transformers\\3576800514f2beb3254d7530c8017dcc24f4098f4519c1cf2e2465fd40f301a3.dd8bd9bfd3664b530ea4e645105f557769387b3da9f79bdb55ed556bdd80611d\n",
      "loading file https://huggingface.co/sagorsarker/codeswitch-spaeng-sentiment-analysis-lince/resolve/main/vocab.txt from cache at C:\\Users\\Rodrigo/.cache\\huggingface\\transformers\\7bf57cb9caae382597f6be55aad60b83613e03db8d6a51df7574085304a58d0d.6c5b6600e968f4b5e08c86d8891ea99e51537fc2bf251435fb46922e8f7a7b29\n",
      "loading file https://huggingface.co/sagorsarker/codeswitch-spaeng-sentiment-analysis-lince/resolve/main/tokenizer.json from cache at None\n",
      "loading file https://huggingface.co/sagorsarker/codeswitch-spaeng-sentiment-analysis-lince/resolve/main/added_tokens.json from cache at None\n",
      "loading file https://huggingface.co/sagorsarker/codeswitch-spaeng-sentiment-analysis-lince/resolve/main/special_tokens_map.json from cache at C:\\Users\\Rodrigo/.cache\\huggingface\\transformers\\3576800514f2beb3254d7530c8017dcc24f4098f4519c1cf2e2465fd40f301a3.dd8bd9bfd3664b530ea4e645105f557769387b3da9f79bdb55ed556bdd80611d\n",
      "loading file https://huggingface.co/sagorsarker/codeswitch-spaeng-sentiment-analysis-lince/resolve/main/tokenizer_config.json from cache at C:\\Users\\Rodrigo/.cache\\huggingface\\transformers\\dc2271ee138b90e2e22d91c7203cb3e6927f44d4ccb573e3c6056c2a353160b6.25d8d06fb0679146a3ed2a3463e3585380bff882fe6e1ebc497196e40dbbd7fa\n",
      "loading configuration file https://huggingface.co/sagorsarker/codeswitch-spaeng-sentiment-analysis-lince/resolve/main/config.json from cache at C:\\Users\\Rodrigo/.cache\\huggingface\\transformers\\e0af1948c17654e9c8ffb09825124aa8947a25aa29b085b921d0589bcde9867e.d31a4b62e2e42bef3b200264e2a8eb5d2a8446a463da8737c6b525723f357f4f\n",
      "Model config BertConfig {\n",
      "  \"_name_or_path\": \"sagorsarker/codeswitch-spaeng-sentiment-analysis-lince\",\n",
      "  \"architectures\": [\n",
      "    \"BertForSequenceClassification\"\n",
      "  ],\n",
      "  \"attention_probs_dropout_prob\": 0.1,\n",
      "  \"classifier_dropout\": null,\n",
      "  \"directionality\": \"bidi\",\n",
      "  \"finetuning_task\": \"sst-2\",\n",
      "  \"gradient_checkpointing\": false,\n",
      "  \"hidden_act\": \"gelu\",\n",
      "  \"hidden_dropout_prob\": 0.1,\n",
      "  \"hidden_size\": 768,\n",
      "  \"initializer_range\": 0.02,\n",
      "  \"intermediate_size\": 3072,\n",
      "  \"layer_norm_eps\": 1e-12,\n",
      "  \"max_position_embeddings\": 512,\n",
      "  \"model_type\": \"bert\",\n",
      "  \"num_attention_heads\": 12,\n",
      "  \"num_hidden_layers\": 12,\n",
      "  \"pad_token_id\": 0,\n",
      "  \"pooler_fc_size\": 768,\n",
      "  \"pooler_num_attention_heads\": 12,\n",
      "  \"pooler_num_fc_layers\": 3,\n",
      "  \"pooler_size_per_head\": 128,\n",
      "  \"pooler_type\": \"first_token_transform\",\n",
      "  \"position_embedding_type\": \"absolute\",\n",
      "  \"transformers_version\": \"4.19.2\",\n",
      "  \"type_vocab_size\": 2,\n",
      "  \"use_cache\": true,\n",
      "  \"vocab_size\": 119547\n",
      "}\n",
      "\n",
      "loading configuration file https://huggingface.co/sagorsarker/codeswitch-spaeng-sentiment-analysis-lince/resolve/main/config.json from cache at C:\\Users\\Rodrigo/.cache\\huggingface\\transformers\\e0af1948c17654e9c8ffb09825124aa8947a25aa29b085b921d0589bcde9867e.d31a4b62e2e42bef3b200264e2a8eb5d2a8446a463da8737c6b525723f357f4f\n",
      "Model config BertConfig {\n",
      "  \"_name_or_path\": \"sagorsarker/codeswitch-spaeng-sentiment-analysis-lince\",\n",
      "  \"architectures\": [\n",
      "    \"BertForSequenceClassification\"\n",
      "  ],\n",
      "  \"attention_probs_dropout_prob\": 0.1,\n",
      "  \"classifier_dropout\": null,\n",
      "  \"directionality\": \"bidi\",\n",
      "  \"finetuning_task\": \"sst-2\",\n",
      "  \"gradient_checkpointing\": false,\n",
      "  \"hidden_act\": \"gelu\",\n",
      "  \"hidden_dropout_prob\": 0.1,\n",
      "  \"hidden_size\": 768,\n",
      "  \"initializer_range\": 0.02,\n",
      "  \"intermediate_size\": 3072,\n",
      "  \"layer_norm_eps\": 1e-12,\n",
      "  \"max_position_embeddings\": 512,\n",
      "  \"model_type\": \"bert\",\n",
      "  \"num_attention_heads\": 12,\n",
      "  \"num_hidden_layers\": 12,\n",
      "  \"pad_token_id\": 0,\n",
      "  \"pooler_fc_size\": 768,\n",
      "  \"pooler_num_attention_heads\": 12,\n",
      "  \"pooler_num_fc_layers\": 3,\n",
      "  \"pooler_size_per_head\": 128,\n",
      "  \"pooler_type\": \"first_token_transform\",\n",
      "  \"position_embedding_type\": \"absolute\",\n",
      "  \"transformers_version\": \"4.19.2\",\n",
      "  \"type_vocab_size\": 2,\n",
      "  \"use_cache\": true,\n",
      "  \"vocab_size\": 119547\n",
      "}\n",
      "\n"
     ]
    }
   ],
   "source": [
    "# Using a specific model for sentiment analysis\n",
    "specific_model7 = pipeline(model=\"sagorsarker/codeswitch-spaeng-sentiment-analysis-lince\")\n",
    "lista7 = specific_model7(Tweet_Text_Limpia_List)"
   ]
  },
  {
   "cell_type": "markdown",
   "id": "d4f16bc7",
   "metadata": {},
   "source": [
    "### Llamar modelo"
   ]
  },
  {
   "cell_type": "code",
   "execution_count": 38,
   "id": "a958b470",
   "metadata": {},
   "outputs": [
    {
     "name": "stdout",
     "output_type": "stream",
     "text": [
      "<bound method NDFrame.head of                                              tweet_text Sentiment  \\\n",
      "0     ¿Algo que decir @Claudiashein @OHarfuch @SSC_C...       NEU   \n",
      "1     AYUDA! Hoy un camión de CDMX EMPUJÓ a @JennyDi...       NEU   \n",
      "2     @lumendoz @Claudiashein @GobCDMX @genarolozano...       NEG   \n",
      "3     Alguien con ganas de jugar #Tenis ?\\nEn #CDMX ...       POS   \n",
      "4     \"Colmo de los colmos\" que el @INEMexico no val...       NEG   \n",
      "...                                                 ...       ...   \n",
      "5994  RT @LourdesSalome3: Conozcan a esta diputada f...       NEU   \n",
      "5995  RT @izcalliciudadan: @alfredodelmazo Woww en C...       NEU   \n",
      "5996  ¡QUE TODOS CONOZCAN TU NEGOCIO O SERVICIO!\\n\\n...       NEU   \n",
      "5997         RT @MonitorFinan0: https://t.co/NXVg8Iojy8       NEU   \n",
      "5998  RT @Reinadee_izcali: Alguien debería decirle a...       NEG   \n",
      "\n",
      "                                      tweet_text_Limpia    label     score  \n",
      "0                                       algo que decir   LABEL_1  0.910527  \n",
      "1     ayuda hoy  camin  cdmx empuj   silla  ruedas q...  LABEL_0  0.605396  \n",
      "2      que luchas por causas sociales aqu  gobierno ...  LABEL_1  0.605420  \n",
      "3     alguien con ganas  jugar tenis  cdmx ciudad  m...  LABEL_1  0.975015  \n",
      "4     colmo  los colmos que   valide  revocacindeman...  LABEL_0  0.814652  \n",
      "...                                                 ...      ...       ...  \n",
      "5994   conozcan  esta diputada federal como  traidor...  LABEL_1  0.534880  \n",
      "5995   woww  cuautitln izcalli  hay ninguna sedegracias  LABEL_0  0.643507  \n",
      "5996  que todos conozcan  negocio  servicioannciate ...  LABEL_1  0.972042  \n",
      "5997                                                     LABEL_1  0.977458  \n",
      "5998   alguien debera decirle  que    risa  qued   2...  LABEL_0  0.618962  \n",
      "\n",
      "[5999 rows x 5 columns]>\n"
     ]
    }
   ],
   "source": [
    "dfs7 = pd.DataFrame(lista7)\n",
    "frame7 = [DF, dfs7]\n",
    "result7 = pd.concat(frame7, axis=1, join='inner')\n",
    "print(result7.head)"
   ]
  },
  {
   "cell_type": "markdown",
   "id": "cb71f9bd",
   "metadata": {},
   "source": [
    "### Visualizar DF"
   ]
  },
  {
   "cell_type": "code",
   "execution_count": 39,
   "id": "dca99096",
   "metadata": {},
   "outputs": [
    {
     "data": {
      "text/html": [
       "<div>\n",
       "<style scoped>\n",
       "    .dataframe tbody tr th:only-of-type {\n",
       "        vertical-align: middle;\n",
       "    }\n",
       "\n",
       "    .dataframe tbody tr th {\n",
       "        vertical-align: top;\n",
       "    }\n",
       "\n",
       "    .dataframe thead th {\n",
       "        text-align: right;\n",
       "    }\n",
       "</style>\n",
       "<table border=\"1\" class=\"dataframe\">\n",
       "  <thead>\n",
       "    <tr style=\"text-align: right;\">\n",
       "      <th></th>\n",
       "      <th>tweet_text</th>\n",
       "      <th>Sentiment</th>\n",
       "      <th>tweet_text_Limpia</th>\n",
       "      <th>label</th>\n",
       "      <th>score</th>\n",
       "    </tr>\n",
       "  </thead>\n",
       "  <tbody>\n",
       "    <tr>\n",
       "      <th>0</th>\n",
       "      <td>¿Algo que decir @Claudiashein @OHarfuch @SSC_C...</td>\n",
       "      <td>NEU</td>\n",
       "      <td>algo que decir</td>\n",
       "      <td>LABEL_1</td>\n",
       "      <td>0.910527</td>\n",
       "    </tr>\n",
       "    <tr>\n",
       "      <th>1</th>\n",
       "      <td>AYUDA! Hoy un camión de CDMX EMPUJÓ a @JennyDi...</td>\n",
       "      <td>NEU</td>\n",
       "      <td>ayuda hoy  camin  cdmx empuj   silla  ruedas q...</td>\n",
       "      <td>LABEL_0</td>\n",
       "      <td>0.605396</td>\n",
       "    </tr>\n",
       "    <tr>\n",
       "      <th>2</th>\n",
       "      <td>@lumendoz @Claudiashein @GobCDMX @genarolozano...</td>\n",
       "      <td>NEG</td>\n",
       "      <td>que luchas por causas sociales aqu  gobierno ...</td>\n",
       "      <td>LABEL_1</td>\n",
       "      <td>0.605420</td>\n",
       "    </tr>\n",
       "    <tr>\n",
       "      <th>3</th>\n",
       "      <td>Alguien con ganas de jugar #Tenis ?\\nEn #CDMX ...</td>\n",
       "      <td>POS</td>\n",
       "      <td>alguien con ganas  jugar tenis  cdmx ciudad  m...</td>\n",
       "      <td>LABEL_1</td>\n",
       "      <td>0.975015</td>\n",
       "    </tr>\n",
       "    <tr>\n",
       "      <th>4</th>\n",
       "      <td>\"Colmo de los colmos\" que el @INEMexico no val...</td>\n",
       "      <td>NEG</td>\n",
       "      <td>colmo  los colmos que   valide  revocacindeman...</td>\n",
       "      <td>LABEL_0</td>\n",
       "      <td>0.814652</td>\n",
       "    </tr>\n",
       "  </tbody>\n",
       "</table>\n",
       "</div>"
      ],
      "text/plain": [
       "                                          tweet_text Sentiment  \\\n",
       "0  ¿Algo que decir @Claudiashein @OHarfuch @SSC_C...       NEU   \n",
       "1  AYUDA! Hoy un camión de CDMX EMPUJÓ a @JennyDi...       NEU   \n",
       "2  @lumendoz @Claudiashein @GobCDMX @genarolozano...       NEG   \n",
       "3  Alguien con ganas de jugar #Tenis ?\\nEn #CDMX ...       POS   \n",
       "4  \"Colmo de los colmos\" que el @INEMexico no val...       NEG   \n",
       "\n",
       "                                   tweet_text_Limpia    label     score  \n",
       "0                                    algo que decir   LABEL_1  0.910527  \n",
       "1  ayuda hoy  camin  cdmx empuj   silla  ruedas q...  LABEL_0  0.605396  \n",
       "2   que luchas por causas sociales aqu  gobierno ...  LABEL_1  0.605420  \n",
       "3  alguien con ganas  jugar tenis  cdmx ciudad  m...  LABEL_1  0.975015  \n",
       "4  colmo  los colmos que   valide  revocacindeman...  LABEL_0  0.814652  "
      ]
     },
     "execution_count": 39,
     "metadata": {},
     "output_type": "execute_result"
    }
   ],
   "source": [
    "result7.head()"
   ]
  },
  {
   "cell_type": "markdown",
   "id": "9bf12a11",
   "metadata": {},
   "source": [
    "### Confusion Matrix"
   ]
  },
  {
   "cell_type": "code",
   "execution_count": 40,
   "id": "f8c2ce47",
   "metadata": {},
   "outputs": [
    {
     "name": "stdout",
     "output_type": "stream",
     "text": [
      "Predicted  LABEL_0  LABEL_1\n",
      "Actual                     \n",
      "NEG            756     1251\n",
      "NEU            901     2858\n",
      "POS              7      226\n"
     ]
    }
   ],
   "source": [
    "# Label 0 = Negativo    \n",
    "# Label 1 = Positivo\n",
    "confusion_matrix3 = pd.crosstab(result7['Sentiment'], result7['label'], rownames=['Actual'], colnames=['Predicted'])\n",
    "print(confusion_matrix3)"
   ]
  },
  {
   "cell_type": "code",
   "execution_count": 41,
   "id": "eca322f8",
   "metadata": {},
   "outputs": [
    {
     "name": "stdout",
     "output_type": "stream",
     "text": [
      "982\n"
     ]
    },
    {
     "data": {
      "text/plain": [
       "2240"
      ]
     },
     "execution_count": 41,
     "metadata": {},
     "output_type": "execute_result"
    }
   ],
   "source": [
    "Y1 = (756+226)\n",
    "z=(756+1251+7+226)\n",
    "print(Y1)\n",
    "z"
   ]
  },
  {
   "cell_type": "code",
   "execution_count": 42,
   "id": "2ba8e52d",
   "metadata": {},
   "outputs": [
    {
     "name": "stdout",
     "output_type": "stream",
     "text": [
      "0.43839285714285714\n"
     ]
    }
   ],
   "source": [
    "total_accuracy1 = (982/2240)\n",
    "print(total_accuracy1)\n",
    "# El accuracy de este modelo es de 43.8%"
   ]
  },
  {
   "cell_type": "markdown",
   "id": "844e1aa5",
   "metadata": {},
   "source": [
    "## Modelo 4 - j-hartmann/sentiment-roberta-large-english-3-classes"
   ]
  },
  {
   "cell_type": "code",
   "execution_count": 43,
   "id": "6c16c627",
   "metadata": {
    "tags": []
   },
   "outputs": [
    {
     "data": {
      "application/vnd.jupyter.widget-view+json": {
       "model_id": "4daf1a01ee064274ade0766eb725daee",
       "version_major": 2,
       "version_minor": 0
      },
      "text/plain": [
       "Downloading:   0%|          | 0.00/1.33k [00:00<?, ?B/s]"
      ]
     },
     "metadata": {},
     "output_type": "display_data"
    },
    {
     "name": "stderr",
     "output_type": "stream",
     "text": [
      "https://huggingface.co/j-hartmann/sentiment-roberta-large-english-3-classes/resolve/main/config.json not found in cache or force_download set to True, downloading to C:\\Users\\Rodrigo\\.cache\\huggingface\\transformers\\tmpza0h2vk_\n"
     ]
    },
    {
     "data": {
      "application/vnd.jupyter.widget-view+json": {
       "model_id": "502ab0c8f99b460cb5830af712e49f38",
       "version_major": 2,
       "version_minor": 0
      },
      "text/plain": [
       "Downloading:   0%|          | 0.00/725 [00:00<?, ?B/s]"
      ]
     },
     "metadata": {},
     "output_type": "display_data"
    },
    {
     "name": "stderr",
     "output_type": "stream",
     "text": [
      "storing https://huggingface.co/j-hartmann/sentiment-roberta-large-english-3-classes/resolve/main/config.json in cache at C:\\Users\\Rodrigo/.cache\\huggingface\\transformers\\7735b31e32fe7731ecca6362040166c78c22be5b2f55721d512cdabfca194c43.1bc8349b2651a78d9ea0689c569ef022f28bcc6a3c1ae17e5c98e18522fb7683\n",
      "creating metadata file for C:\\Users\\Rodrigo/.cache\\huggingface\\transformers\\7735b31e32fe7731ecca6362040166c78c22be5b2f55721d512cdabfca194c43.1bc8349b2651a78d9ea0689c569ef022f28bcc6a3c1ae17e5c98e18522fb7683\n",
      "loading configuration file https://huggingface.co/j-hartmann/sentiment-roberta-large-english-3-classes/resolve/main/config.json from cache at C:\\Users\\Rodrigo/.cache\\huggingface\\transformers\\7735b31e32fe7731ecca6362040166c78c22be5b2f55721d512cdabfca194c43.1bc8349b2651a78d9ea0689c569ef022f28bcc6a3c1ae17e5c98e18522fb7683\n",
      "Model config RobertaConfig {\n",
      "  \"_name_or_path\": \"j-hartmann/sentiment-roberta-large-english-3-classes\",\n",
      "  \"architectures\": [\n",
      "    \"RobertaForSequenceClassification\"\n",
      "  ],\n",
      "  \"attention_probs_dropout_prob\": 0.1,\n",
      "  \"bos_token_id\": 0,\n",
      "  \"classifier_dropout\": null,\n",
      "  \"eos_token_id\": 2,\n",
      "  \"gradient_checkpointing\": false,\n",
      "  \"hidden_act\": \"gelu\",\n",
      "  \"hidden_dropout_prob\": 0.1,\n",
      "  \"hidden_size\": 1024,\n",
      "  \"id2label\": {\n",
      "    \"0\": \"negative\",\n",
      "    \"1\": \"neutral\",\n",
      "    \"2\": \"positive\"\n",
      "  },\n",
      "  \"initializer_range\": 0.02,\n",
      "  \"intermediate_size\": 4096,\n",
      "  \"label2id\": {\n",
      "    \"negative\": 0,\n",
      "    \"neutral\": 1,\n",
      "    \"positive\": 2\n",
      "  },\n",
      "  \"layer_norm_eps\": 1e-05,\n",
      "  \"max_position_embeddings\": 514,\n",
      "  \"model_type\": \"roberta\",\n",
      "  \"num_attention_heads\": 16,\n",
      "  \"num_hidden_layers\": 24,\n",
      "  \"pad_token_id\": 1,\n",
      "  \"position_embedding_type\": \"absolute\",\n",
      "  \"transformers_version\": \"4.19.2\",\n",
      "  \"type_vocab_size\": 1,\n",
      "  \"use_cache\": true,\n",
      "  \"vocab_size\": 50265\n",
      "}\n",
      "\n",
      "loading configuration file https://huggingface.co/j-hartmann/sentiment-roberta-large-english-3-classes/resolve/main/config.json from cache at C:\\Users\\Rodrigo/.cache\\huggingface\\transformers\\7735b31e32fe7731ecca6362040166c78c22be5b2f55721d512cdabfca194c43.1bc8349b2651a78d9ea0689c569ef022f28bcc6a3c1ae17e5c98e18522fb7683\n",
      "Model config RobertaConfig {\n",
      "  \"_name_or_path\": \"j-hartmann/sentiment-roberta-large-english-3-classes\",\n",
      "  \"architectures\": [\n",
      "    \"RobertaForSequenceClassification\"\n",
      "  ],\n",
      "  \"attention_probs_dropout_prob\": 0.1,\n",
      "  \"bos_token_id\": 0,\n",
      "  \"classifier_dropout\": null,\n",
      "  \"eos_token_id\": 2,\n",
      "  \"gradient_checkpointing\": false,\n",
      "  \"hidden_act\": \"gelu\",\n",
      "  \"hidden_dropout_prob\": 0.1,\n",
      "  \"hidden_size\": 1024,\n",
      "  \"id2label\": {\n",
      "    \"0\": \"negative\",\n",
      "    \"1\": \"neutral\",\n",
      "    \"2\": \"positive\"\n",
      "  },\n",
      "  \"initializer_range\": 0.02,\n",
      "  \"intermediate_size\": 4096,\n",
      "  \"label2id\": {\n",
      "    \"negative\": 0,\n",
      "    \"neutral\": 1,\n",
      "    \"positive\": 2\n",
      "  },\n",
      "  \"layer_norm_eps\": 1e-05,\n",
      "  \"max_position_embeddings\": 514,\n",
      "  \"model_type\": \"roberta\",\n",
      "  \"num_attention_heads\": 16,\n",
      "  \"num_hidden_layers\": 24,\n",
      "  \"pad_token_id\": 1,\n",
      "  \"position_embedding_type\": \"absolute\",\n",
      "  \"transformers_version\": \"4.19.2\",\n",
      "  \"type_vocab_size\": 1,\n",
      "  \"use_cache\": true,\n",
      "  \"vocab_size\": 50265\n",
      "}\n",
      "\n",
      "https://huggingface.co/j-hartmann/sentiment-roberta-large-english-3-classes/resolve/main/pytorch_model.bin not found in cache or force_download set to True, downloading to C:\\Users\\Rodrigo\\.cache\\huggingface\\transformers\\tmpqmkyl6dc\n"
     ]
    },
    {
     "data": {
      "application/vnd.jupyter.widget-view+json": {
       "model_id": "53d7babd89424e778e8e762e4d9a34c1",
       "version_major": 2,
       "version_minor": 0
      },
      "text/plain": [
       "Downloading:   0%|          | 0.00/1.33G [00:00<?, ?B/s]"
      ]
     },
     "metadata": {},
     "output_type": "display_data"
    },
    {
     "name": "stderr",
     "output_type": "stream",
     "text": [
      "storing https://huggingface.co/j-hartmann/sentiment-roberta-large-english-3-classes/resolve/main/pytorch_model.bin in cache at C:\\Users\\Rodrigo/.cache\\huggingface\\transformers\\0c9a131fea1ad43a2ddec11e59146478c8aafb9e070d632d5845cb22c4dc79b7.ed8951e23e2400bc771049a48a5ce05a6df4c5c2190fd62e632b99f86df15997\n",
      "creating metadata file for C:\\Users\\Rodrigo/.cache\\huggingface\\transformers\\0c9a131fea1ad43a2ddec11e59146478c8aafb9e070d632d5845cb22c4dc79b7.ed8951e23e2400bc771049a48a5ce05a6df4c5c2190fd62e632b99f86df15997\n",
      "loading weights file https://huggingface.co/j-hartmann/sentiment-roberta-large-english-3-classes/resolve/main/pytorch_model.bin from cache at C:\\Users\\Rodrigo/.cache\\huggingface\\transformers\\0c9a131fea1ad43a2ddec11e59146478c8aafb9e070d632d5845cb22c4dc79b7.ed8951e23e2400bc771049a48a5ce05a6df4c5c2190fd62e632b99f86df15997\n",
      "Some weights of the model checkpoint at j-hartmann/sentiment-roberta-large-english-3-classes were not used when initializing RobertaForSequenceClassification: ['roberta.pooler.dense.weight', 'roberta.pooler.dense.bias']\n",
      "- This IS expected if you are initializing RobertaForSequenceClassification from the checkpoint of a model trained on another task or with another architecture (e.g. initializing a BertForSequenceClassification model from a BertForPreTraining model).\n",
      "- This IS NOT expected if you are initializing RobertaForSequenceClassification from the checkpoint of a model that you expect to be exactly identical (initializing a BertForSequenceClassification model from a BertForSequenceClassification model).\n",
      "All the weights of RobertaForSequenceClassification were initialized from the model checkpoint at j-hartmann/sentiment-roberta-large-english-3-classes.\n",
      "If your task is similar to the task the model of the checkpoint was trained on, you can already use RobertaForSequenceClassification for predictions without further training.\n",
      "https://huggingface.co/j-hartmann/sentiment-roberta-large-english-3-classes/resolve/main/tokenizer_config.json not found in cache or force_download set to True, downloading to C:\\Users\\Rodrigo\\.cache\\huggingface\\transformers\\tmplcv0i1m1\n"
     ]
    },
    {
     "data": {
      "application/vnd.jupyter.widget-view+json": {
       "model_id": "c31e930177cd440299ad8550b4b86e80",
       "version_major": 2,
       "version_minor": 0
      },
      "text/plain": [
       "Downloading:   0%|          | 0.00/1.04k [00:00<?, ?B/s]"
      ]
     },
     "metadata": {},
     "output_type": "display_data"
    },
    {
     "name": "stderr",
     "output_type": "stream",
     "text": [
      "storing https://huggingface.co/j-hartmann/sentiment-roberta-large-english-3-classes/resolve/main/tokenizer_config.json in cache at C:\\Users\\Rodrigo/.cache\\huggingface\\transformers\\913d13fa5d10f22250fb347d946cafaedf8c9cb1821d834d7e839aadd041e61f.eaac6957082f3d5b4fcd06a2672887306d6019060b20af751d3114beb168b474\n",
      "creating metadata file for C:\\Users\\Rodrigo/.cache\\huggingface\\transformers\\913d13fa5d10f22250fb347d946cafaedf8c9cb1821d834d7e839aadd041e61f.eaac6957082f3d5b4fcd06a2672887306d6019060b20af751d3114beb168b474\n",
      "loading configuration file https://huggingface.co/j-hartmann/sentiment-roberta-large-english-3-classes/resolve/main/config.json from cache at C:\\Users\\Rodrigo/.cache\\huggingface\\transformers\\7735b31e32fe7731ecca6362040166c78c22be5b2f55721d512cdabfca194c43.1bc8349b2651a78d9ea0689c569ef022f28bcc6a3c1ae17e5c98e18522fb7683\n",
      "Model config RobertaConfig {\n",
      "  \"_name_or_path\": \"j-hartmann/sentiment-roberta-large-english-3-classes\",\n",
      "  \"architectures\": [\n",
      "    \"RobertaForSequenceClassification\"\n",
      "  ],\n",
      "  \"attention_probs_dropout_prob\": 0.1,\n",
      "  \"bos_token_id\": 0,\n",
      "  \"classifier_dropout\": null,\n",
      "  \"eos_token_id\": 2,\n",
      "  \"gradient_checkpointing\": false,\n",
      "  \"hidden_act\": \"gelu\",\n",
      "  \"hidden_dropout_prob\": 0.1,\n",
      "  \"hidden_size\": 1024,\n",
      "  \"id2label\": {\n",
      "    \"0\": \"negative\",\n",
      "    \"1\": \"neutral\",\n",
      "    \"2\": \"positive\"\n",
      "  },\n",
      "  \"initializer_range\": 0.02,\n",
      "  \"intermediate_size\": 4096,\n",
      "  \"label2id\": {\n",
      "    \"negative\": 0,\n",
      "    \"neutral\": 1,\n",
      "    \"positive\": 2\n",
      "  },\n",
      "  \"layer_norm_eps\": 1e-05,\n",
      "  \"max_position_embeddings\": 514,\n",
      "  \"model_type\": \"roberta\",\n",
      "  \"num_attention_heads\": 16,\n",
      "  \"num_hidden_layers\": 24,\n",
      "  \"pad_token_id\": 1,\n",
      "  \"position_embedding_type\": \"absolute\",\n",
      "  \"transformers_version\": \"4.19.2\",\n",
      "  \"type_vocab_size\": 1,\n",
      "  \"use_cache\": true,\n",
      "  \"vocab_size\": 50265\n",
      "}\n",
      "\n",
      "https://huggingface.co/j-hartmann/sentiment-roberta-large-english-3-classes/resolve/main/vocab.json not found in cache or force_download set to True, downloading to C:\\Users\\Rodrigo\\.cache\\huggingface\\transformers\\tmpg24f69iu\n"
     ]
    },
    {
     "data": {
      "application/vnd.jupyter.widget-view+json": {
       "model_id": "8927d0e1ec4d414db36741dcb7442636",
       "version_major": 2,
       "version_minor": 0
      },
      "text/plain": [
       "Downloading:   0%|          | 0.00/878k [00:00<?, ?B/s]"
      ]
     },
     "metadata": {},
     "output_type": "display_data"
    },
    {
     "name": "stderr",
     "output_type": "stream",
     "text": [
      "storing https://huggingface.co/j-hartmann/sentiment-roberta-large-english-3-classes/resolve/main/vocab.json in cache at C:\\Users\\Rodrigo/.cache\\huggingface\\transformers\\31169918e982700c6e1876151e28b098accc96c2fafba15a10e3f3d935fb2394.647b4548b6d9ea817e82e7a9231a320231a1c9ea24053cc9e758f3fe68216f05\n",
      "creating metadata file for C:\\Users\\Rodrigo/.cache\\huggingface\\transformers\\31169918e982700c6e1876151e28b098accc96c2fafba15a10e3f3d935fb2394.647b4548b6d9ea817e82e7a9231a320231a1c9ea24053cc9e758f3fe68216f05\n",
      "https://huggingface.co/j-hartmann/sentiment-roberta-large-english-3-classes/resolve/main/merges.txt not found in cache or force_download set to True, downloading to C:\\Users\\Rodrigo\\.cache\\huggingface\\transformers\\tmpesxyfwe8\n"
     ]
    },
    {
     "data": {
      "application/vnd.jupyter.widget-view+json": {
       "model_id": "a30a9bced62d449c92503c3e0e826201",
       "version_major": 2,
       "version_minor": 0
      },
      "text/plain": [
       "Downloading:   0%|          | 0.00/446k [00:00<?, ?B/s]"
      ]
     },
     "metadata": {},
     "output_type": "display_data"
    },
    {
     "name": "stderr",
     "output_type": "stream",
     "text": [
      "storing https://huggingface.co/j-hartmann/sentiment-roberta-large-english-3-classes/resolve/main/merges.txt in cache at C:\\Users\\Rodrigo/.cache\\huggingface\\transformers\\c9e825ff97535e6e6b43b79060050c1318c0d2e128646bbcbf88a207f78ae2e6.5d12962c5ee615a4c803841266e9c3be9a691a924f72d395d3a6c6c81157788b\n",
      "creating metadata file for C:\\Users\\Rodrigo/.cache\\huggingface\\transformers\\c9e825ff97535e6e6b43b79060050c1318c0d2e128646bbcbf88a207f78ae2e6.5d12962c5ee615a4c803841266e9c3be9a691a924f72d395d3a6c6c81157788b\n",
      "https://huggingface.co/j-hartmann/sentiment-roberta-large-english-3-classes/resolve/main/special_tokens_map.json not found in cache or force_download set to True, downloading to C:\\Users\\Rodrigo\\.cache\\huggingface\\transformers\\tmpjo2dwt7y\n"
     ]
    },
    {
     "data": {
      "application/vnd.jupyter.widget-view+json": {
       "model_id": "70d3b4ff521d440b98b5a8bc2409ba29",
       "version_major": 2,
       "version_minor": 0
      },
      "text/plain": [
       "Downloading:   0%|          | 0.00/772 [00:00<?, ?B/s]"
      ]
     },
     "metadata": {},
     "output_type": "display_data"
    },
    {
     "name": "stderr",
     "output_type": "stream",
     "text": [
      "storing https://huggingface.co/j-hartmann/sentiment-roberta-large-english-3-classes/resolve/main/special_tokens_map.json in cache at C:\\Users\\Rodrigo/.cache\\huggingface\\transformers\\982864513eacf8042b77a12fc8a3fd9df295bf6d7167067b05af132d01d94968.cb2244924ab24d706b02fd7fcedaea4531566537687a539ebb94db511fd122a0\n",
      "creating metadata file for C:\\Users\\Rodrigo/.cache\\huggingface\\transformers\\982864513eacf8042b77a12fc8a3fd9df295bf6d7167067b05af132d01d94968.cb2244924ab24d706b02fd7fcedaea4531566537687a539ebb94db511fd122a0\n",
      "loading file https://huggingface.co/j-hartmann/sentiment-roberta-large-english-3-classes/resolve/main/vocab.json from cache at C:\\Users\\Rodrigo/.cache\\huggingface\\transformers\\31169918e982700c6e1876151e28b098accc96c2fafba15a10e3f3d935fb2394.647b4548b6d9ea817e82e7a9231a320231a1c9ea24053cc9e758f3fe68216f05\n",
      "loading file https://huggingface.co/j-hartmann/sentiment-roberta-large-english-3-classes/resolve/main/merges.txt from cache at C:\\Users\\Rodrigo/.cache\\huggingface\\transformers\\c9e825ff97535e6e6b43b79060050c1318c0d2e128646bbcbf88a207f78ae2e6.5d12962c5ee615a4c803841266e9c3be9a691a924f72d395d3a6c6c81157788b\n",
      "loading file https://huggingface.co/j-hartmann/sentiment-roberta-large-english-3-classes/resolve/main/tokenizer.json from cache at None\n",
      "loading file https://huggingface.co/j-hartmann/sentiment-roberta-large-english-3-classes/resolve/main/added_tokens.json from cache at None\n",
      "loading file https://huggingface.co/j-hartmann/sentiment-roberta-large-english-3-classes/resolve/main/special_tokens_map.json from cache at C:\\Users\\Rodrigo/.cache\\huggingface\\transformers\\982864513eacf8042b77a12fc8a3fd9df295bf6d7167067b05af132d01d94968.cb2244924ab24d706b02fd7fcedaea4531566537687a539ebb94db511fd122a0\n",
      "loading file https://huggingface.co/j-hartmann/sentiment-roberta-large-english-3-classes/resolve/main/tokenizer_config.json from cache at C:\\Users\\Rodrigo/.cache\\huggingface\\transformers\\913d13fa5d10f22250fb347d946cafaedf8c9cb1821d834d7e839aadd041e61f.eaac6957082f3d5b4fcd06a2672887306d6019060b20af751d3114beb168b474\n",
      "loading configuration file https://huggingface.co/j-hartmann/sentiment-roberta-large-english-3-classes/resolve/main/config.json from cache at C:\\Users\\Rodrigo/.cache\\huggingface\\transformers\\7735b31e32fe7731ecca6362040166c78c22be5b2f55721d512cdabfca194c43.1bc8349b2651a78d9ea0689c569ef022f28bcc6a3c1ae17e5c98e18522fb7683\n",
      "Model config RobertaConfig {\n",
      "  \"_name_or_path\": \"j-hartmann/sentiment-roberta-large-english-3-classes\",\n",
      "  \"architectures\": [\n",
      "    \"RobertaForSequenceClassification\"\n",
      "  ],\n",
      "  \"attention_probs_dropout_prob\": 0.1,\n",
      "  \"bos_token_id\": 0,\n",
      "  \"classifier_dropout\": null,\n",
      "  \"eos_token_id\": 2,\n",
      "  \"gradient_checkpointing\": false,\n",
      "  \"hidden_act\": \"gelu\",\n",
      "  \"hidden_dropout_prob\": 0.1,\n",
      "  \"hidden_size\": 1024,\n",
      "  \"id2label\": {\n",
      "    \"0\": \"negative\",\n",
      "    \"1\": \"neutral\",\n",
      "    \"2\": \"positive\"\n",
      "  },\n",
      "  \"initializer_range\": 0.02,\n",
      "  \"intermediate_size\": 4096,\n",
      "  \"label2id\": {\n",
      "    \"negative\": 0,\n",
      "    \"neutral\": 1,\n",
      "    \"positive\": 2\n",
      "  },\n",
      "  \"layer_norm_eps\": 1e-05,\n",
      "  \"max_position_embeddings\": 514,\n",
      "  \"model_type\": \"roberta\",\n",
      "  \"num_attention_heads\": 16,\n",
      "  \"num_hidden_layers\": 24,\n",
      "  \"pad_token_id\": 1,\n",
      "  \"position_embedding_type\": \"absolute\",\n",
      "  \"transformers_version\": \"4.19.2\",\n",
      "  \"type_vocab_size\": 1,\n",
      "  \"use_cache\": true,\n",
      "  \"vocab_size\": 50265\n",
      "}\n",
      "\n",
      "loading configuration file https://huggingface.co/j-hartmann/sentiment-roberta-large-english-3-classes/resolve/main/config.json from cache at C:\\Users\\Rodrigo/.cache\\huggingface\\transformers\\7735b31e32fe7731ecca6362040166c78c22be5b2f55721d512cdabfca194c43.1bc8349b2651a78d9ea0689c569ef022f28bcc6a3c1ae17e5c98e18522fb7683\n",
      "Model config RobertaConfig {\n",
      "  \"_name_or_path\": \"j-hartmann/sentiment-roberta-large-english-3-classes\",\n",
      "  \"architectures\": [\n",
      "    \"RobertaForSequenceClassification\"\n",
      "  ],\n",
      "  \"attention_probs_dropout_prob\": 0.1,\n",
      "  \"bos_token_id\": 0,\n",
      "  \"classifier_dropout\": null,\n",
      "  \"eos_token_id\": 2,\n",
      "  \"gradient_checkpointing\": false,\n",
      "  \"hidden_act\": \"gelu\",\n",
      "  \"hidden_dropout_prob\": 0.1,\n",
      "  \"hidden_size\": 1024,\n",
      "  \"id2label\": {\n",
      "    \"0\": \"negative\",\n",
      "    \"1\": \"neutral\",\n",
      "    \"2\": \"positive\"\n",
      "  },\n",
      "  \"initializer_range\": 0.02,\n",
      "  \"intermediate_size\": 4096,\n",
      "  \"label2id\": {\n",
      "    \"negative\": 0,\n",
      "    \"neutral\": 1,\n",
      "    \"positive\": 2\n",
      "  },\n",
      "  \"layer_norm_eps\": 1e-05,\n",
      "  \"max_position_embeddings\": 514,\n",
      "  \"model_type\": \"roberta\",\n",
      "  \"num_attention_heads\": 16,\n",
      "  \"num_hidden_layers\": 24,\n",
      "  \"pad_token_id\": 1,\n",
      "  \"position_embedding_type\": \"absolute\",\n",
      "  \"transformers_version\": \"4.19.2\",\n",
      "  \"type_vocab_size\": 1,\n",
      "  \"use_cache\": true,\n",
      "  \"vocab_size\": 50265\n",
      "}\n",
      "\n"
     ]
    }
   ],
   "source": [
    "# 8 Using a specific model for sentiment analysis\n",
    "specific_model8 = pipeline(model=\"j-hartmann/sentiment-roberta-large-english-3-classes\")\n",
    "lista8 = specific_model8(Tweet_Text_Limpia_List_ENGLISH)"
   ]
  },
  {
   "cell_type": "markdown",
   "id": "e4354032",
   "metadata": {},
   "source": [
    "### Llamar modelo"
   ]
  },
  {
   "cell_type": "code",
   "execution_count": 44,
   "id": "c010a4ce",
   "metadata": {},
   "outputs": [
    {
     "name": "stdout",
     "output_type": "stream",
     "text": [
      "<bound method NDFrame.head of                                              tweet_text Sentiment  \\\n",
      "0     ¿Algo que decir @Claudiashein @OHarfuch @SSC_C...       NEU   \n",
      "1     AYUDA! Hoy un camión de CDMX EMPUJÓ a @JennyDi...       NEU   \n",
      "2     @lumendoz @Claudiashein @GobCDMX @genarolozano...       NEG   \n",
      "3     Alguien con ganas de jugar #Tenis ?\\nEn #CDMX ...       POS   \n",
      "4     \"Colmo de los colmos\" que el @INEMexico no val...       NEG   \n",
      "...                                                 ...       ...   \n",
      "5994  RT @LourdesSalome3: Conozcan a esta diputada f...       NEU   \n",
      "5995  RT @izcalliciudadan: @alfredodelmazo Woww en C...       NEU   \n",
      "5996  ¡QUE TODOS CONOZCAN TU NEGOCIO O SERVICIO!\\n\\n...       NEU   \n",
      "5997         RT @MonitorFinan0: https://t.co/NXVg8Iojy8       NEU   \n",
      "5998  RT @Reinadee_izcali: Alguien debería decirle a...       NEG   \n",
      "\n",
      "                                      tweet_text_Limpia     label     score  \n",
      "0                                       algo que decir    neutral  0.998672  \n",
      "1     ayuda hoy  camin  cdmx empuj   silla  ruedas q...  negative  0.998737  \n",
      "2      que luchas por causas sociales aqu  gobierno ...  negative  0.969171  \n",
      "3     alguien con ganas  jugar tenis  cdmx ciudad  m...   neutral  0.998967  \n",
      "4     colmo  los colmos que   valide  revocacindeman...  negative  0.952717  \n",
      "...                                                 ...       ...       ...  \n",
      "5994   conozcan  esta diputada federal como  traidor...  negative  0.998976  \n",
      "5995   woww  cuautitln izcalli  hay ninguna sedegracias  negative  0.998558  \n",
      "5996  que todos conozcan  negocio  servicioannciate ...   neutral  0.999025  \n",
      "5997                                                      neutral  0.997193  \n",
      "5998   alguien debera decirle  que    risa  qued   2...  negative  0.992830  \n",
      "\n",
      "[5999 rows x 5 columns]>\n"
     ]
    }
   ],
   "source": [
    "dfs8 = pd.DataFrame(lista8)\n",
    "frame8 = [DF, dfs8]\n",
    "result8 = pd.concat(frame8, axis=1, join='inner')\n",
    "print(result8.head)"
   ]
  },
  {
   "cell_type": "markdown",
   "id": "ed964bc8",
   "metadata": {},
   "source": [
    "### Visualizar DF"
   ]
  },
  {
   "cell_type": "code",
   "execution_count": 45,
   "id": "f6efceb6",
   "metadata": {},
   "outputs": [
    {
     "data": {
      "text/html": [
       "<div>\n",
       "<style scoped>\n",
       "    .dataframe tbody tr th:only-of-type {\n",
       "        vertical-align: middle;\n",
       "    }\n",
       "\n",
       "    .dataframe tbody tr th {\n",
       "        vertical-align: top;\n",
       "    }\n",
       "\n",
       "    .dataframe thead th {\n",
       "        text-align: right;\n",
       "    }\n",
       "</style>\n",
       "<table border=\"1\" class=\"dataframe\">\n",
       "  <thead>\n",
       "    <tr style=\"text-align: right;\">\n",
       "      <th></th>\n",
       "      <th>tweet_text</th>\n",
       "      <th>Sentiment</th>\n",
       "      <th>tweet_text_Limpia</th>\n",
       "      <th>label</th>\n",
       "      <th>score</th>\n",
       "    </tr>\n",
       "  </thead>\n",
       "  <tbody>\n",
       "    <tr>\n",
       "      <th>0</th>\n",
       "      <td>¿Algo que decir @Claudiashein @OHarfuch @SSC_C...</td>\n",
       "      <td>NEU</td>\n",
       "      <td>algo que decir</td>\n",
       "      <td>neutral</td>\n",
       "      <td>0.998672</td>\n",
       "    </tr>\n",
       "    <tr>\n",
       "      <th>1</th>\n",
       "      <td>AYUDA! Hoy un camión de CDMX EMPUJÓ a @JennyDi...</td>\n",
       "      <td>NEU</td>\n",
       "      <td>ayuda hoy  camin  cdmx empuj   silla  ruedas q...</td>\n",
       "      <td>negative</td>\n",
       "      <td>0.998737</td>\n",
       "    </tr>\n",
       "    <tr>\n",
       "      <th>2</th>\n",
       "      <td>@lumendoz @Claudiashein @GobCDMX @genarolozano...</td>\n",
       "      <td>NEG</td>\n",
       "      <td>que luchas por causas sociales aqu  gobierno ...</td>\n",
       "      <td>negative</td>\n",
       "      <td>0.969171</td>\n",
       "    </tr>\n",
       "    <tr>\n",
       "      <th>3</th>\n",
       "      <td>Alguien con ganas de jugar #Tenis ?\\nEn #CDMX ...</td>\n",
       "      <td>POS</td>\n",
       "      <td>alguien con ganas  jugar tenis  cdmx ciudad  m...</td>\n",
       "      <td>neutral</td>\n",
       "      <td>0.998967</td>\n",
       "    </tr>\n",
       "    <tr>\n",
       "      <th>4</th>\n",
       "      <td>\"Colmo de los colmos\" que el @INEMexico no val...</td>\n",
       "      <td>NEG</td>\n",
       "      <td>colmo  los colmos que   valide  revocacindeman...</td>\n",
       "      <td>negative</td>\n",
       "      <td>0.952717</td>\n",
       "    </tr>\n",
       "  </tbody>\n",
       "</table>\n",
       "</div>"
      ],
      "text/plain": [
       "                                          tweet_text Sentiment  \\\n",
       "0  ¿Algo que decir @Claudiashein @OHarfuch @SSC_C...       NEU   \n",
       "1  AYUDA! Hoy un camión de CDMX EMPUJÓ a @JennyDi...       NEU   \n",
       "2  @lumendoz @Claudiashein @GobCDMX @genarolozano...       NEG   \n",
       "3  Alguien con ganas de jugar #Tenis ?\\nEn #CDMX ...       POS   \n",
       "4  \"Colmo de los colmos\" que el @INEMexico no val...       NEG   \n",
       "\n",
       "                                   tweet_text_Limpia     label     score  \n",
       "0                                    algo que decir    neutral  0.998672  \n",
       "1  ayuda hoy  camin  cdmx empuj   silla  ruedas q...  negative  0.998737  \n",
       "2   que luchas por causas sociales aqu  gobierno ...  negative  0.969171  \n",
       "3  alguien con ganas  jugar tenis  cdmx ciudad  m...   neutral  0.998967  \n",
       "4  colmo  los colmos que   valide  revocacindeman...  negative  0.952717  "
      ]
     },
     "execution_count": 45,
     "metadata": {},
     "output_type": "execute_result"
    }
   ],
   "source": [
    "result8.head()"
   ]
  },
  {
   "cell_type": "markdown",
   "id": "678f2d94",
   "metadata": {},
   "source": [
    "### Confusion Matrix"
   ]
  },
  {
   "cell_type": "code",
   "execution_count": 46,
   "id": "7036dfb4",
   "metadata": {},
   "outputs": [
    {
     "name": "stdout",
     "output_type": "stream",
     "text": [
      "Predicted  negative  neutral  positive\n",
      "Actual                                \n",
      "NEG            1128      823        56\n",
      "NEU            1030     2550       179\n",
      "POS               6      142        85\n"
     ]
    }
   ],
   "source": [
    "confusion_matrix4 = pd.crosstab(result8['Sentiment'], result8['label'], rownames=['Actual'], colnames=['Predicted'])\n",
    "print(confusion_matrix4)"
   ]
  },
  {
   "cell_type": "code",
   "execution_count": 66,
   "id": "9d53ac29",
   "metadata": {},
   "outputs": [
    {
     "name": "stdout",
     "output_type": "stream",
     "text": [
      "3763\n"
     ]
    }
   ],
   "source": [
    "Y1 = (1128+2550+85)\n",
    "print(Y1)"
   ]
  },
  {
   "cell_type": "code",
   "execution_count": 65,
   "id": "46100996",
   "metadata": {},
   "outputs": [
    {
     "name": "stdout",
     "output_type": "stream",
     "text": [
      "0.6271666666666667\n"
     ]
    }
   ],
   "source": [
    "total_accuracy1 = (3763/6000)\n",
    "print(total_accuracy1)\n",
    "# El accuracy de este modelo es de 62.7%"
   ]
  },
  {
   "cell_type": "markdown",
   "id": "2326e901",
   "metadata": {},
   "source": [
    "## Modelo EXTRA - pysentimiento/robertuito-emotion-analysis"
   ]
  },
  {
   "cell_type": "code",
   "execution_count": 53,
   "id": "4b716bc3",
   "metadata": {},
   "outputs": [
    {
     "data": {
      "application/vnd.jupyter.widget-view+json": {
       "model_id": "005a36627d5c4a3abd9cef72907c8e50",
       "version_major": 2,
       "version_minor": 0
      },
      "text/plain": [
       "Downloading:   0%|          | 0.00/1.16k [00:00<?, ?B/s]"
      ]
     },
     "metadata": {},
     "output_type": "display_data"
    },
    {
     "name": "stderr",
     "output_type": "stream",
     "text": [
      "loading configuration file https://huggingface.co/pysentimiento/robertuito-sentiment-analysis/resolve/main/config.json from cache at C:\\Users\\Rodrigo/.cache\\huggingface\\transformers\\034fd09e9530137fb6e6c042529972a92619fb02df8b40e7a4cfc50090943c46.98e658c5b8878c67807e3287b07db9608dbd08a5b69ce09979c447190bbe8077\n",
      "Model config RobertaConfig {\n",
      "  \"_name_or_path\": \"pysentimiento/robertuito-sentiment-analysis\",\n",
      "  \"architectures\": [\n",
      "    \"RobertaForSequenceClassification\"\n",
      "  ],\n",
      "  \"attention_probs_dropout_prob\": 0.1,\n",
      "  \"bos_token_id\": 0,\n",
      "  \"classifier_dropout\": null,\n",
      "  \"eos_token_id\": 2,\n",
      "  \"gradient_checkpointing\": false,\n",
      "  \"hidden_act\": \"gelu\",\n",
      "  \"hidden_dropout_prob\": 0.1,\n",
      "  \"hidden_size\": 768,\n",
      "  \"id2label\": {\n",
      "    \"0\": \"NEG\",\n",
      "    \"1\": \"NEU\",\n",
      "    \"2\": \"POS\"\n",
      "  },\n",
      "  \"initializer_range\": 0.02,\n",
      "  \"intermediate_size\": 3072,\n",
      "  \"label2id\": {\n",
      "    \"NEG\": 0,\n",
      "    \"NEU\": 1,\n",
      "    \"POS\": 2\n",
      "  },\n",
      "  \"layer_norm_eps\": 1e-12,\n",
      "  \"max_position_embeddings\": 130,\n",
      "  \"model_type\": \"roberta\",\n",
      "  \"num_attention_heads\": 12,\n",
      "  \"num_hidden_layers\": 12,\n",
      "  \"pad_token_id\": 1,\n",
      "  \"position_embedding_type\": \"absolute\",\n",
      "  \"problem_type\": \"single_label_classification\",\n",
      "  \"torch_dtype\": \"float32\",\n",
      "  \"transformers_version\": \"4.19.2\",\n",
      "  \"type_vocab_size\": 1,\n",
      "  \"use_cache\": true,\n",
      "  \"vocab_size\": 30002\n",
      "}\n",
      "\n",
      "loading configuration file https://huggingface.co/pysentimiento/robertuito-sentiment-analysis/resolve/main/config.json from cache at C:\\Users\\Rodrigo/.cache\\huggingface\\transformers\\034fd09e9530137fb6e6c042529972a92619fb02df8b40e7a4cfc50090943c46.98e658c5b8878c67807e3287b07db9608dbd08a5b69ce09979c447190bbe8077\n",
      "Model config RobertaConfig {\n",
      "  \"_name_or_path\": \"pysentimiento/robertuito-sentiment-analysis\",\n",
      "  \"architectures\": [\n",
      "    \"RobertaForSequenceClassification\"\n",
      "  ],\n",
      "  \"attention_probs_dropout_prob\": 0.1,\n",
      "  \"bos_token_id\": 0,\n",
      "  \"classifier_dropout\": null,\n",
      "  \"eos_token_id\": 2,\n",
      "  \"gradient_checkpointing\": false,\n",
      "  \"hidden_act\": \"gelu\",\n",
      "  \"hidden_dropout_prob\": 0.1,\n",
      "  \"hidden_size\": 768,\n",
      "  \"id2label\": {\n",
      "    \"0\": \"NEG\",\n",
      "    \"1\": \"NEU\",\n",
      "    \"2\": \"POS\"\n",
      "  },\n",
      "  \"initializer_range\": 0.02,\n",
      "  \"intermediate_size\": 3072,\n",
      "  \"label2id\": {\n",
      "    \"NEG\": 0,\n",
      "    \"NEU\": 1,\n",
      "    \"POS\": 2\n",
      "  },\n",
      "  \"layer_norm_eps\": 1e-12,\n",
      "  \"max_position_embeddings\": 130,\n",
      "  \"model_type\": \"roberta\",\n",
      "  \"num_attention_heads\": 12,\n",
      "  \"num_hidden_layers\": 12,\n",
      "  \"pad_token_id\": 1,\n",
      "  \"position_embedding_type\": \"absolute\",\n",
      "  \"problem_type\": \"single_label_classification\",\n",
      "  \"torch_dtype\": \"float32\",\n",
      "  \"transformers_version\": \"4.19.2\",\n",
      "  \"type_vocab_size\": 1,\n",
      "  \"use_cache\": true,\n",
      "  \"vocab_size\": 30002\n",
      "}\n",
      "\n",
      "loading weights file https://huggingface.co/pysentimiento/robertuito-sentiment-analysis/resolve/main/pytorch_model.bin from cache at C:\\Users\\Rodrigo/.cache\\huggingface\\transformers\\46eaf2275c70a984feed87be9019d2c427e10e13e4498d391bedffc0c61b4991.01d3c05bd9b3f5c750a6a897fc7bc380ac6c30347fa348718ca5ed37b03fdd46\n",
      "All model checkpoint weights were used when initializing RobertaForSequenceClassification.\n",
      "\n",
      "All the weights of RobertaForSequenceClassification were initialized from the model checkpoint at pysentimiento/robertuito-sentiment-analysis.\n",
      "If your task is similar to the task the model of the checkpoint was trained on, you can already use RobertaForSequenceClassification for predictions without further training.\n",
      "loading file https://huggingface.co/pysentimiento/robertuito-sentiment-analysis/resolve/main/tokenizer.json from cache at C:\\Users\\Rodrigo/.cache\\huggingface\\transformers\\47dd2d3180a6186d30715516321375322e3a84d5e4656762e083091bbb5d5dc4.0843b07596b388e054bae078721182b4846b9e28a7bbf04d7079b274f8613ae3\n",
      "loading file https://huggingface.co/pysentimiento/robertuito-sentiment-analysis/resolve/main/added_tokens.json from cache at None\n",
      "loading file https://huggingface.co/pysentimiento/robertuito-sentiment-analysis/resolve/main/special_tokens_map.json from cache at C:\\Users\\Rodrigo/.cache\\huggingface\\transformers\\25e0e805456d2786a12b70b86278c6e839d19958cb4f541ee1f78621140098f7.0dc5b1041f62041ebbd23b1297f2f573769d5c97d8b7c28180ec86b8f6185aa8\n",
      "loading file https://huggingface.co/pysentimiento/robertuito-sentiment-analysis/resolve/main/tokenizer_config.json from cache at C:\\Users\\Rodrigo/.cache\\huggingface\\transformers\\4fdf9a5a8e0a6023e1a9cdef62921158c3db9545e73f8dc0f46340a21bbb64d5.50a2bcf7668df2ff5a82b7b0455533bb4c0db21e6e33565fa20fd7dc8a3be740\n"
     ]
    }
   ],
   "source": [
    "# 6 Using a specific model for sentiment analysis\n",
    "specific_model6 = pipeline(model=\"pysentimiento/robertuito-sentiment-analysis\")\n",
    "lista6 = specific_model6(Tweet_Text_Limpia_List)"
   ]
  },
  {
   "cell_type": "code",
   "execution_count": 54,
   "id": "22698742",
   "metadata": {
    "scrolled": true
   },
   "outputs": [
    {
     "name": "stdout",
     "output_type": "stream",
     "text": [
      "<bound method NDFrame.head of                                              tweet_text Sentiment  \\\n",
      "0     ¿Algo que decir @Claudiashein @OHarfuch @SSC_C...       NEU   \n",
      "1     AYUDA! Hoy un camión de CDMX EMPUJÓ a @JennyDi...       NEU   \n",
      "2     @lumendoz @Claudiashein @GobCDMX @genarolozano...       NEG   \n",
      "3     Alguien con ganas de jugar #Tenis ?\\nEn #CDMX ...       POS   \n",
      "4     \"Colmo de los colmos\" que el @INEMexico no val...       NEG   \n",
      "...                                                 ...       ...   \n",
      "5994  RT @LourdesSalome3: Conozcan a esta diputada f...       NEU   \n",
      "5995  RT @izcalliciudadan: @alfredodelmazo Woww en C...       NEU   \n",
      "5996  ¡QUE TODOS CONOZCAN TU NEGOCIO O SERVICIO!\\n\\n...       NEU   \n",
      "5997         RT @MonitorFinan0: https://t.co/NXVg8Iojy8       NEU   \n",
      "5998  RT @Reinadee_izcali: Alguien debería decirle a...       NEG   \n",
      "\n",
      "                                      tweet_text_Limpia label     score  \n",
      "0                                       algo que decir    NEU  0.978681  \n",
      "1     ayuda hoy  camin  cdmx empuj   silla  ruedas q...   NEG  0.987207  \n",
      "2      que luchas por causas sociales aqu  gobierno ...   NEG  0.997413  \n",
      "3     alguien con ganas  jugar tenis  cdmx ciudad  m...   NEU  0.983389  \n",
      "4     colmo  los colmos que   valide  revocacindeman...   NEG  0.988344  \n",
      "...                                                 ...   ...       ...  \n",
      "5994   conozcan  esta diputada federal como  traidor...   NEU  0.805954  \n",
      "5995   woww  cuautitln izcalli  hay ninguna sedegracias   NEU  0.856126  \n",
      "5996  que todos conozcan  negocio  servicioannciate ...   NEU  0.689225  \n",
      "5997                                                      NEU  0.614346  \n",
      "5998   alguien debera decirle  que    risa  qued   2...   NEG  0.990841  \n",
      "\n",
      "[5999 rows x 5 columns]>\n"
     ]
    }
   ],
   "source": [
    "dfs6 = pd.DataFrame(lista6)\n",
    "frames6 = [DF, dfs6]\n",
    "result6 = pd.concat(frames6, axis=1, join='inner')\n",
    "print(result6.head)"
   ]
  },
  {
   "cell_type": "code",
   "execution_count": 60,
   "id": "a2917b5d-8d6c-422e-8fc6-b289fa11bccf",
   "metadata": {},
   "outputs": [
    {
     "data": {
      "text/html": [
       "<div>\n",
       "<style scoped>\n",
       "    .dataframe tbody tr th:only-of-type {\n",
       "        vertical-align: middle;\n",
       "    }\n",
       "\n",
       "    .dataframe tbody tr th {\n",
       "        vertical-align: top;\n",
       "    }\n",
       "\n",
       "    .dataframe thead th {\n",
       "        text-align: right;\n",
       "    }\n",
       "</style>\n",
       "<table border=\"1\" class=\"dataframe\">\n",
       "  <thead>\n",
       "    <tr style=\"text-align: right;\">\n",
       "      <th></th>\n",
       "      <th>tweet_text</th>\n",
       "      <th>Sentiment</th>\n",
       "      <th>tweet_text_Limpia</th>\n",
       "      <th>label</th>\n",
       "      <th>score</th>\n",
       "    </tr>\n",
       "  </thead>\n",
       "  <tbody>\n",
       "    <tr>\n",
       "      <th>0</th>\n",
       "      <td>¿Algo que decir @Claudiashein @OHarfuch @SSC_C...</td>\n",
       "      <td>NEU</td>\n",
       "      <td>algo que decir</td>\n",
       "      <td>NEU</td>\n",
       "      <td>0.978681</td>\n",
       "    </tr>\n",
       "    <tr>\n",
       "      <th>1</th>\n",
       "      <td>AYUDA! Hoy un camión de CDMX EMPUJÓ a @JennyDi...</td>\n",
       "      <td>NEU</td>\n",
       "      <td>ayuda hoy  camin  cdmx empuj   silla  ruedas q...</td>\n",
       "      <td>NEG</td>\n",
       "      <td>0.987207</td>\n",
       "    </tr>\n",
       "    <tr>\n",
       "      <th>2</th>\n",
       "      <td>@lumendoz @Claudiashein @GobCDMX @genarolozano...</td>\n",
       "      <td>NEG</td>\n",
       "      <td>que luchas por causas sociales aqu  gobierno ...</td>\n",
       "      <td>NEG</td>\n",
       "      <td>0.997413</td>\n",
       "    </tr>\n",
       "    <tr>\n",
       "      <th>3</th>\n",
       "      <td>Alguien con ganas de jugar #Tenis ?\\nEn #CDMX ...</td>\n",
       "      <td>POS</td>\n",
       "      <td>alguien con ganas  jugar tenis  cdmx ciudad  m...</td>\n",
       "      <td>NEU</td>\n",
       "      <td>0.983389</td>\n",
       "    </tr>\n",
       "    <tr>\n",
       "      <th>4</th>\n",
       "      <td>\"Colmo de los colmos\" que el @INEMexico no val...</td>\n",
       "      <td>NEG</td>\n",
       "      <td>colmo  los colmos que   valide  revocacindeman...</td>\n",
       "      <td>NEG</td>\n",
       "      <td>0.988344</td>\n",
       "    </tr>\n",
       "  </tbody>\n",
       "</table>\n",
       "</div>"
      ],
      "text/plain": [
       "                                          tweet_text Sentiment  \\\n",
       "0  ¿Algo que decir @Claudiashein @OHarfuch @SSC_C...       NEU   \n",
       "1  AYUDA! Hoy un camión de CDMX EMPUJÓ a @JennyDi...       NEU   \n",
       "2  @lumendoz @Claudiashein @GobCDMX @genarolozano...       NEG   \n",
       "3  Alguien con ganas de jugar #Tenis ?\\nEn #CDMX ...       POS   \n",
       "4  \"Colmo de los colmos\" que el @INEMexico no val...       NEG   \n",
       "\n",
       "                                   tweet_text_Limpia label     score  \n",
       "0                                    algo que decir    NEU  0.978681  \n",
       "1  ayuda hoy  camin  cdmx empuj   silla  ruedas q...   NEG  0.987207  \n",
       "2   que luchas por causas sociales aqu  gobierno ...   NEG  0.997413  \n",
       "3  alguien con ganas  jugar tenis  cdmx ciudad  m...   NEU  0.983389  \n",
       "4  colmo  los colmos que   valide  revocacindeman...   NEG  0.988344  "
      ]
     },
     "execution_count": 60,
     "metadata": {},
     "output_type": "execute_result"
    }
   ],
   "source": [
    "result6.head()"
   ]
  },
  {
   "cell_type": "code",
   "execution_count": 55,
   "id": "6bfc90ed-3d3c-4ef7-8679-c9d9bf739cfd",
   "metadata": {},
   "outputs": [
    {
     "name": "stdout",
     "output_type": "stream",
     "text": [
      "Predicted   NEG   NEU  POS\n",
      "Actual                    \n",
      "NEG        1757   246    4\n",
      "NEU        1432  2247   80\n",
      "POS          14    90  129\n"
     ]
    }
   ],
   "source": [
    "confusion_matrix5 = pd.crosstab(result6['Sentiment'], result6['label'], rownames=['Actual'], colnames=['Predicted'])\n",
    "print(confusion_matrix5)"
   ]
  },
  {
   "cell_type": "code",
   "execution_count": 56,
   "id": "d748aa1f-7e80-4997-8c6a-c7fa452cd9d6",
   "metadata": {},
   "outputs": [
    {
     "name": "stdout",
     "output_type": "stream",
     "text": [
      "4133\n"
     ]
    }
   ],
   "source": [
    "Y1 = (1757+2247+129)\n",
    "print(Y1)"
   ]
  },
  {
   "cell_type": "code",
   "execution_count": 57,
   "id": "dda88353-2ca5-4e58-a241-deb75ec63f45",
   "metadata": {},
   "outputs": [
    {
     "name": "stdout",
     "output_type": "stream",
     "text": [
      "0.6888333333333333\n"
     ]
    }
   ],
   "source": [
    "total_accuracy1 = (4133/6000)\n",
    "print(total_accuracy1)\n",
    "# El accuracy de este modelo es de 68.8%"
   ]
  },
  {
   "cell_type": "code",
   "execution_count": 59,
   "id": "8f44ecf2-b6c9-48b8-80eb-533ca7e12044",
   "metadata": {},
   "outputs": [
    {
     "name": "stdout",
     "output_type": "stream",
     "text": [
      "0.8754359740906826\n",
      "0.5536480686695279\n",
      "0.5977653631284916\n"
     ]
    }
   ],
   "source": [
    "neg=(1757/2007)\n",
    "pos=(129/233)\n",
    "neu=(2247/3759)\n",
    "print(neg)\n",
    "print(pos)\n",
    "print(neu)"
   ]
  },
  {
   "cell_type": "code",
   "execution_count": null,
   "id": "dc066949-f635-4f6b-9f7d-b82cdbdc7762",
   "metadata": {},
   "outputs": [],
   "source": []
  }
 ],
 "metadata": {
  "kernelspec": {
   "display_name": "Python 3 (ipykernel)",
   "language": "python",
   "name": "python3"
  },
  "language_info": {
   "codemirror_mode": {
    "name": "ipython",
    "version": 3
   },
   "file_extension": ".py",
   "mimetype": "text/x-python",
   "name": "python",
   "nbconvert_exporter": "python",
   "pygments_lexer": "ipython3",
   "version": "3.9.0"
  },
  "toc": {
   "base_numbering": 1,
   "nav_menu": {},
   "number_sections": true,
   "sideBar": true,
   "skip_h1_title": false,
   "title_cell": "Table of Contents",
   "title_sidebar": "Contents",
   "toc_cell": false,
   "toc_position": {},
   "toc_section_display": true,
   "toc_window_display": false
  },
  "varInspector": {
   "cols": {
    "lenName": 16,
    "lenType": 16,
    "lenVar": 40
   },
   "kernels_config": {
    "python": {
     "delete_cmd_postfix": "",
     "delete_cmd_prefix": "del ",
     "library": "var_list.py",
     "varRefreshCmd": "print(var_dic_list())"
    },
    "r": {
     "delete_cmd_postfix": ") ",
     "delete_cmd_prefix": "rm(",
     "library": "var_list.r",
     "varRefreshCmd": "cat(var_dic_list()) "
    }
   },
   "types_to_exclude": [
    "module",
    "function",
    "builtin_function_or_method",
    "instance",
    "_Feature"
   ],
   "window_display": false
  }
 },
 "nbformat": 4,
 "nbformat_minor": 5
}
